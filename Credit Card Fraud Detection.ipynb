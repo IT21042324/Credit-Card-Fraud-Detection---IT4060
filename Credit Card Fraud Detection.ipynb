{
 "cells": [
  {
   "cell_type": "markdown",
   "id": "fc647622-47e1-4112-a82f-be6e837b83cd",
   "metadata": {},
   "source": [
    "# Model Creation"
   ]
  },
  {
   "cell_type": "markdown",
   "id": "c1e5de9f-26b6-49be-acfe-74dadf35d8c7",
   "metadata": {},
   "source": [
    "### Importing relevant libraries"
   ]
  },
  {
   "cell_type": "code",
   "execution_count": 1,
   "id": "19dec63b-4046-412b-a782-324900958217",
   "metadata": {
    "tags": []
   },
   "outputs": [],
   "source": [
    "import pandas as pd\n",
    "import numpy as np\n",
    "import seaborn as sns\n",
    "import matplotlib.pyplot as plt\n",
    "import tensorflow as tf\n",
    "\n",
    "import warnings\n",
    "warnings.filterwarnings('ignore')"
   ]
  },
  {
   "cell_type": "markdown",
   "id": "23a213c6-d99b-4fd1-8a21-4d486ffc2bcf",
   "metadata": {},
   "source": [
    "# Importing the augmented dataset"
   ]
  },
  {
   "cell_type": "code",
   "execution_count": 2,
   "id": "b7f7a10a-144e-4040-b793-5b0235a7abe1",
   "metadata": {
    "tags": []
   },
   "outputs": [
    {
     "data": {
      "text/html": [
       "<div>\n",
       "<style scoped>\n",
       "    .dataframe tbody tr th:only-of-type {\n",
       "        vertical-align: middle;\n",
       "    }\n",
       "\n",
       "    .dataframe tbody tr th {\n",
       "        vertical-align: top;\n",
       "    }\n",
       "\n",
       "    .dataframe thead th {\n",
       "        text-align: right;\n",
       "    }\n",
       "</style>\n",
       "<table border=\"1\" class=\"dataframe\">\n",
       "  <thead>\n",
       "    <tr style=\"text-align: right;\">\n",
       "      <th></th>\n",
       "      <th>merchant_0</th>\n",
       "      <th>merchant_1</th>\n",
       "      <th>merchant_2</th>\n",
       "      <th>merchant_3</th>\n",
       "      <th>merchant_4</th>\n",
       "      <th>merchant_5</th>\n",
       "      <th>merchant_6</th>\n",
       "      <th>merchant_7</th>\n",
       "      <th>merchant_8</th>\n",
       "      <th>merchant_9</th>\n",
       "      <th>...</th>\n",
       "      <th>job_0</th>\n",
       "      <th>job_1</th>\n",
       "      <th>job_2</th>\n",
       "      <th>job_3</th>\n",
       "      <th>job_4</th>\n",
       "      <th>job_5</th>\n",
       "      <th>job_6</th>\n",
       "      <th>job_7</th>\n",
       "      <th>age</th>\n",
       "      <th>is_fraud</th>\n",
       "    </tr>\n",
       "  </thead>\n",
       "  <tbody>\n",
       "    <tr>\n",
       "      <th>0</th>\n",
       "      <td>0</td>\n",
       "      <td>0</td>\n",
       "      <td>0</td>\n",
       "      <td>0</td>\n",
       "      <td>0</td>\n",
       "      <td>0</td>\n",
       "      <td>0</td>\n",
       "      <td>0</td>\n",
       "      <td>0</td>\n",
       "      <td>1</td>\n",
       "      <td>...</td>\n",
       "      <td>0</td>\n",
       "      <td>0</td>\n",
       "      <td>0</td>\n",
       "      <td>0</td>\n",
       "      <td>0</td>\n",
       "      <td>0</td>\n",
       "      <td>0</td>\n",
       "      <td>1</td>\n",
       "      <td>0.310811</td>\n",
       "      <td>0</td>\n",
       "    </tr>\n",
       "    <tr>\n",
       "      <th>1</th>\n",
       "      <td>0</td>\n",
       "      <td>0</td>\n",
       "      <td>0</td>\n",
       "      <td>0</td>\n",
       "      <td>0</td>\n",
       "      <td>0</td>\n",
       "      <td>0</td>\n",
       "      <td>0</td>\n",
       "      <td>1</td>\n",
       "      <td>1</td>\n",
       "      <td>...</td>\n",
       "      <td>0</td>\n",
       "      <td>0</td>\n",
       "      <td>0</td>\n",
       "      <td>0</td>\n",
       "      <td>0</td>\n",
       "      <td>0</td>\n",
       "      <td>1</td>\n",
       "      <td>1</td>\n",
       "      <td>0.756757</td>\n",
       "      <td>0</td>\n",
       "    </tr>\n",
       "    <tr>\n",
       "      <th>2</th>\n",
       "      <td>0</td>\n",
       "      <td>0</td>\n",
       "      <td>0</td>\n",
       "      <td>0</td>\n",
       "      <td>0</td>\n",
       "      <td>0</td>\n",
       "      <td>0</td>\n",
       "      <td>1</td>\n",
       "      <td>0</td>\n",
       "      <td>0</td>\n",
       "      <td>...</td>\n",
       "      <td>0</td>\n",
       "      <td>0</td>\n",
       "      <td>0</td>\n",
       "      <td>0</td>\n",
       "      <td>0</td>\n",
       "      <td>1</td>\n",
       "      <td>0</td>\n",
       "      <td>0</td>\n",
       "      <td>0.459459</td>\n",
       "      <td>0</td>\n",
       "    </tr>\n",
       "    <tr>\n",
       "      <th>3</th>\n",
       "      <td>0</td>\n",
       "      <td>0</td>\n",
       "      <td>0</td>\n",
       "      <td>0</td>\n",
       "      <td>0</td>\n",
       "      <td>0</td>\n",
       "      <td>0</td>\n",
       "      <td>1</td>\n",
       "      <td>0</td>\n",
       "      <td>1</td>\n",
       "      <td>...</td>\n",
       "      <td>0</td>\n",
       "      <td>0</td>\n",
       "      <td>0</td>\n",
       "      <td>0</td>\n",
       "      <td>0</td>\n",
       "      <td>1</td>\n",
       "      <td>0</td>\n",
       "      <td>1</td>\n",
       "      <td>0.459459</td>\n",
       "      <td>0</td>\n",
       "    </tr>\n",
       "    <tr>\n",
       "      <th>4</th>\n",
       "      <td>0</td>\n",
       "      <td>0</td>\n",
       "      <td>0</td>\n",
       "      <td>0</td>\n",
       "      <td>0</td>\n",
       "      <td>0</td>\n",
       "      <td>0</td>\n",
       "      <td>1</td>\n",
       "      <td>1</td>\n",
       "      <td>0</td>\n",
       "      <td>...</td>\n",
       "      <td>0</td>\n",
       "      <td>0</td>\n",
       "      <td>0</td>\n",
       "      <td>0</td>\n",
       "      <td>0</td>\n",
       "      <td>1</td>\n",
       "      <td>1</td>\n",
       "      <td>0</td>\n",
       "      <td>0.472973</td>\n",
       "      <td>0</td>\n",
       "    </tr>\n",
       "  </tbody>\n",
       "</table>\n",
       "<p>5 rows × 37 columns</p>\n",
       "</div>"
      ],
      "text/plain": [
       "   merchant_0  merchant_1  merchant_2  merchant_3  merchant_4  merchant_5  \\\n",
       "0           0           0           0           0           0           0   \n",
       "1           0           0           0           0           0           0   \n",
       "2           0           0           0           0           0           0   \n",
       "3           0           0           0           0           0           0   \n",
       "4           0           0           0           0           0           0   \n",
       "\n",
       "   merchant_6  merchant_7  merchant_8  merchant_9  ...  job_0  job_1  job_2  \\\n",
       "0           0           0           0           1  ...      0      0      0   \n",
       "1           0           0           1           1  ...      0      0      0   \n",
       "2           0           1           0           0  ...      0      0      0   \n",
       "3           0           1           0           1  ...      0      0      0   \n",
       "4           0           1           1           0  ...      0      0      0   \n",
       "\n",
       "   job_3  job_4  job_5  job_6  job_7       age  is_fraud  \n",
       "0      0      0      0      0      1  0.310811         0  \n",
       "1      0      0      0      1      1  0.756757         0  \n",
       "2      0      0      1      0      0  0.459459         0  \n",
       "3      0      0      1      0      1  0.459459         0  \n",
       "4      0      0      1      1      0  0.472973         0  \n",
       "\n",
       "[5 rows x 37 columns]"
      ]
     },
     "execution_count": 2,
     "metadata": {},
     "output_type": "execute_result"
    }
   ],
   "source": [
    "dataset= pd.read_csv('data/credit_card_fraud_dataset_after_smote.csv')\n",
    "dataset.head()"
   ]
  },
  {
   "cell_type": "code",
   "execution_count": null,
   "id": "26766d82-01bc-4505-95f6-f52d285b8df2",
   "metadata": {
    "tags": []
   },
   "outputs": [],
   "source": [
    "dataset.shape"
   ]
  },
  {
   "cell_type": "code",
   "execution_count": 3,
   "id": "ca3c6745-0a20-4d75-ab71-878eb26d7652",
   "metadata": {
    "scrolled": true,
    "tags": []
   },
   "outputs": [],
   "source": [
    "X_smote= dataset.drop('is_fraud', axis=1)\n",
    "y_smote= dataset.is_fraud"
   ]
  },
  {
   "cell_type": "markdown",
   "id": "82889620-67bd-497b-b9be-3bd4266c014e",
   "metadata": {},
   "source": [
    "# IMPLEMENTATION OF THE MODELS"
   ]
  },
  {
   "cell_type": "markdown",
   "id": "0c32e2eb-74c4-4e05-8f5b-af83e6cdf6a5",
   "metadata": {},
   "source": [
    "## 1. Logistic Regression"
   ]
  },
  {
   "cell_type": "markdown",
   "id": "0c779352-eb04-4a56-a1bb-0667ea0585ac",
   "metadata": {},
   "source": [
    "Here we are doing cross validation for the dataset instead of simply splitting it into train and test partitions.\n",
    "\n",
    "### Cross-Validation using k-Folds\n",
    "\n",
    "In machine learning, when we're evaluating our models, it's crucial to ensure that our assessment is robust and not biased by the specific train-test split we choose. One way to achieve this is through cross-validation, specifically k-fold cross-validation.\n",
    "\n",
    "### What is k-Fold Cross-Validation?\n",
    "\n",
    "In k-fold cross-validation, the dataset is divided into k subsets, or \"folds,\" of approximately equal size. The model is then trained and evaluated k times, using a different fold for evaluation each time while the remaining k-1 folds are used for training. This process ensures that every data point is used for both training and validation, providing a more reliable estimate of the model's performance.\n",
    "\n",
    "### Advantages of k-Fold Cross-Validation:\n",
    "\n",
    "1. **Robustness:** By rotating through different subsets of the data for training and validation, k-fold cross-validation helps mitigate the risk of overfitting to any particular subset.\n",
    "\n",
    "2. **Better Accuracy Estimation:** Since the model is trained and tested on multiple subsets of the data, the resulting accuracy estimate is likely to be more representative of the model's true performance on unseen data.\n",
    "\n",
    "3. **Optimized Hyperparameter Tuning:** When tuning hyperparameters or comparing different models, k-fold cross-validation allows for a more thorough and fair evaluation, as it provides multiple performance metrics for each configuration.\n"
   ]
  },
  {
   "cell_type": "markdown",
   "id": "f2f003c6-2aab-4ff0-881a-245ae5216f2a",
   "metadata": {
    "tags": []
   },
   "source": [
    "### a. Without Hyper Parameter Tuning"
   ]
  },
  {
   "cell_type": "code",
   "execution_count": null,
   "id": "9df5dc5e-359d-4a36-bf1b-322602a743e9",
   "metadata": {
    "tags": []
   },
   "outputs": [],
   "source": [
    "from sklearn.linear_model import LogisticRegression\n",
    "from sklearn.linear_model import LogisticRegression\n",
    "\n",
    "# Define Logistic Regression model\n",
    "logistic_model = LogisticRegression()\n",
    "\n",
    "# Fit the classifier\n",
    "logistic_model.fit(X_smote, y_smote)"
   ]
  },
  {
   "cell_type": "code",
   "execution_count": null,
   "id": "9ae49c2e-76d3-48e7-8624-3c5a1a6fdd61",
   "metadata": {
    "tags": []
   },
   "outputs": [],
   "source": [
    "from sklearn.metrics import accuracy_score, classification_report, confusion_matrix, roc_curve, auc\n",
    "from sklearn.model_selection import cross_val_predict, cross_val_score\n",
    "\n",
    "# Perform cross-validation to get cross-validated predictions\n",
    "y_pred_cv = cross_val_predict(logistic_model, X_smote, y_smote, cv=5)\n",
    "\n",
    "# Calculate cross-validation scores\n",
    "scores = cross_val_score(logistic_model, X_smote, y_smote, cv=5, scoring='accuracy')\n",
    "\n",
    "# Calculate the average accuracy from cross-validation\n",
    "mean_accuracy = np.mean(scores)\n",
    "print(f'Mean Accuracy: {mean_accuracy : .2f}')\n",
    "\n",
    "# Calculate the cross-validation accuracy score\n",
    "cross_val_accuracy = accuracy_score(y_smote, y_pred_cv)\n",
    "print(f'Cross-Validation Accuracy: {cross_val_accuracy : .2f}')"
   ]
  },
  {
   "cell_type": "code",
   "execution_count": null,
   "id": "5f241780-12d0-4ed1-9980-cc8f2c2aba5b",
   "metadata": {
    "tags": []
   },
   "outputs": [],
   "source": [
    "# Print classification report for cross-validated predictions\n",
    "classification_rep = classification_report(y_smote, y_pred_cv)\n",
    "print(\"Classification Report: \\n\\n {}\".format(classification_rep))\n",
    "\n",
    "# Create a confusion matrix for cross-validated predictions\n",
    "confusion_mat = confusion_matrix(y_smote, y_pred_cv)\n",
    "\n",
    "# Convert confusion matrix to DataFrame for better formatting and display\n",
    "confusion_df = pd.DataFrame(confusion_mat, index=['Actual Negative', 'Actual Positive'], columns=['Predicted Negative', 'Predicted Positive'])\n",
    "\n",
    "# Display the confusion matrix\n",
    "print(\"\\nConfusion Matrix:\")\n",
    "display(confusion_df)\n",
    "\n",
    "# Plot the confusion matrix\n",
    "plt.figure(figsize=(7, 6))\n",
    "sns.heatmap(confusion_df, annot=True, fmt=\"g\", cmap='BuGn') #fmt g is to show the entire number without the e term\n",
    "plt.title(\"Confusion Matrix\")\n",
    "plt.xlabel(\"Predicted\")\n",
    "plt.ylabel(\"Actual\")\n",
    "plt.show()"
   ]
  },
  {
   "cell_type": "markdown",
   "id": "2a00e973-3d1b-4b54-815e-38cec19e3d02",
   "metadata": {},
   "source": [
    "The `classification_report` function from the `sklearn.metrics` module is used to generate a report that shows some of the main classification metrics. The output of this function includes precision, recall, and F1-score for each class, as well as the averages of these metrics.\n",
    "\n",
    "Here's what each of these terms means:\n",
    "\n",
    "- **Precision**: Precision is the fraction of relevant instances among the retrieved instances. In other words, it answers the question: What proportion of positive identifications was actually correct? It is defined as the number of true positives (TP) divided by the sum of true positives and false positives (FP). A model that produces no false positives has a precision of 1.0.\n",
    "\n",
    "- **Recall**: Also known as sensitivity or the true positive rate, recall is the fraction of relevant instances that were retrieved. It answers the question: What proportion of actual positives was identified correctly? It is defined as the number of true positives (TP) divided by the sum of true positives and false negatives (FN). A model that produces no false negatives has a recall of 1.0.\n",
    "\n",
    "- **F1-Score**: The F1 score is a measure of a model's accuracy that takes both precision and recall into account. It is the harmonic mean of precision and recall, providing a balance between the two. The F1 score is especially useful in situations where the positive class is much smaller than the negative class, which is often the case in real-world problems."
   ]
  },
  {
   "cell_type": "markdown",
   "id": "19bc4bd7-97f3-4c5c-8931-ad3d5e0324de",
   "metadata": {
    "tags": []
   },
   "source": [
    "A **Confusion Matrix** is a table that is often used to describe the performance of a classification model (or \"classifier\") on a set of test data for which the true values are known. It allows visualization of the performance of an algorithm.\n",
    "\n",
    "The confusion matrix itself is relatively simple to understand, and some of the basic terminology is provided below:\n",
    "\n",
    "- **True Positives (TP)**: These are cases in which we predicted yes (the digit), and the actual output was also yes (the digit).\n",
    "- **True Negatives (TN)**: We predicted no, and the actual output was no.\n",
    "- **False Positives (FP)**: We predicted yes, but the actual output was no. Also known as \"Type I error\".\n",
    "- **False Negatives (FN)**: We predicted no, but the actual output was yes. Also known as \"Type II error\"."
   ]
  },
  {
   "cell_type": "markdown",
   "id": "1a49ead1-5aa5-495a-bfe4-2a6b6a741731",
   "metadata": {
    "tags": []
   },
   "source": [
    "### b. With Hyper Parameter Tuning"
   ]
  },
  {
   "cell_type": "code",
   "execution_count": null,
   "id": "520939c9-21d0-4d43-8a86-ffad256935ed",
   "metadata": {
    "tags": []
   },
   "outputs": [],
   "source": [
    "from sklearn.model_selection import GridSearchCV\n",
    "\n",
    "# Define the hyperparameters and their values\n",
    "param_grid = {\n",
    "    'penalty': ['l1', 'l2', 'elasticnet'],\n",
    "    'C': [.0001, .001, .01, .1, 1, 10, 100]\n",
    "}"
   ]
  },
  {
   "cell_type": "markdown",
   "id": "207cd4f4-78e6-4234-bf7a-855b03923655",
   "metadata": {},
   "source": [
    "- **penalty**: This parameter specifies the type of regularization to be applied on the model. Regularization is a technique used to prevent overfitting by adding a penalty term to the loss function that the model optimizes. The options are:\n",
    "    - **'l1'**: Lasso regularization. This adds a penalty equal to the absolute value of the magnitude of coefficients.\n",
    "    - **'l2'**: Ridge regularization. This adds a penalty equal to the square of the magnitude of coefficients.\n",
    "    - **'elasticnet'**: This is a combination of L1 and L2 regularization. It adds a penalty term that is a mix of both L1 and L2 penalties.\n",
    "    - **'none'**: No regularization is applied.\n",
    "\n",
    "- **C**: This is the inverse of regularization strength. Smaller values specify stronger regularization. So, by varying 'C' in a logarithmic space between 0.0001 and 10000 (as done with `np.logspace(-4, 4, 20)`), we're trying a wide range of regularization strengths in the grid search.\n",
    "\n",
    "- **solver**: This parameter specifies the algorithm to be used in the optimization problem. The options are:\n",
    "    - **'newton-cg'**: Newton's method for optimization.\n",
    "    - **'lbfgs'**: Stands for Limited-memory Broyden–Fletcher–Goldfarb–Shanno. It approximates the second derivative matrix updates with gradient evaluations. This is the default option\n",
    "    - **'liblinear'**: A library for large linear classification that uses a coordinate descent algorithm.\n",
    "    - **'sag'**: Stands for Stochastic Average Gradient descent. It uses a random sample of previous gradient values.\n",
    "    - **'saga'**: Stands for Stochastic Average Gradient descent with 'amoritized' variance reduction. It is a variant of 'sag' that also supports the non-smooth penalty='l1' option (i.e., L1 regularization).\n",
    "\n",
    "The solver parameter specifies the optimization algorithm used to minimize the cost function. D\n",
    "\n",
    "- **max_iter**: This is the maximum number of iterations for the solvers to converge. If the solver doesn't converge within this number of iterations, it will stop and return a warning. By specifying [100, 1000, 2500, 5000], we're allowing the grid search to try different limits for the number of iterations.\n",
    "\n",
    "**Here solvers and max_iter are not optimised due to technical constraints**"
   ]
  },
  {
   "cell_type": "code",
   "execution_count": null,
   "id": "dc054d7d-4744-410c-85a2-1311d05f2d75",
   "metadata": {
    "scrolled": true,
    "tags": []
   },
   "outputs": [],
   "source": [
    "# Create a base model\n",
    "logistic_model = LogisticRegression()\n",
    "\n",
    "# Instantiate the grid search model\n",
    "grid_search = GridSearchCV(estimator= logistic_model, param_grid= param_grid, cv= 5, scoring= 'accuracy', verbose= 2) \n",
    "#verbose 2 is to see the progress messages of the gridserach\n",
    "\n",
    "# Fit the grid search to the data\n",
    "grid_search.fit(X_smote, y_smote)\n",
    "\n",
    "# Get the best parameters\n",
    "best_params = grid_search.best_params_\n",
    "print(f'Best Parameters: {best_params}')"
   ]
  },
  {
   "cell_type": "code",
   "execution_count": null,
   "id": "ffe6be49-9c0d-413b-b223-e63f5106cb46",
   "metadata": {
    "tags": []
   },
   "outputs": [],
   "source": [
    "# Train and predict using the model with the best parameters\n",
    "best_model = LogisticRegression(**best_params)\n",
    "best_model.fit(X_smote, y_smote)\n",
    "y_pred_cv_best = cross_val_predict(best_model, X_smote, y_smote, cv=5)"
   ]
  },
  {
   "cell_type": "code",
   "execution_count": null,
   "id": "27ee2714-add3-4426-8bfa-2150ec384d34",
   "metadata": {},
   "outputs": [],
   "source": [
    "# Calculate the cross-validation accuracy score for the model with the best parameters\n",
    "cross_val_accuracy_best = accuracy_score(y_smote, y_pred_cv_best)\n",
    "print(f'Cross-Validation Accuracy (Best Model): {cross_val_accuracy_best : .2f}')"
   ]
  },
  {
   "cell_type": "code",
   "execution_count": null,
   "id": "8481151c-9bd6-4da5-afd7-648eda9bf5dc",
   "metadata": {
    "tags": []
   },
   "outputs": [],
   "source": [
    "# Print classification report for cross-validated predictions\n",
    "classification_rep = classification_report(y_smote, y_pred_cv_best)\n",
    "print(\"Classification Report: \\n\\n {}\".format(classification_rep))\n",
    "\n",
    "# Create a confusion matrix for cross-validated predictions\n",
    "confusion_mat = confusion_matrix(y_smote, y_pred_cv_best)\n",
    "\n",
    "# Convert confusion matrix to DataFrame for better formatting and display\n",
    "confusion_df = pd.DataFrame(confusion_mat, index=['Actual Negative', 'Actual Positive'], columns=['Predicted Negative', 'Predicted Positive'])\n",
    "\n",
    "# Display the confusion matrix\n",
    "print(\"\\nConfusion Matrix:\")\n",
    "display(confusion_df)\n",
    "\n",
    "# Plot the confusion matrix\n",
    "\n",
    "print('\\n')\n",
    "plt.figure(figsize=(7, 6))\n",
    "sns.heatmap(confusion_df, annot=True, fmt=\"g\", cmap='BuGn') #fmt g is to show the entire number without the e term\n",
    "plt.title(\"Confusion Matrix\")\n",
    "plt.xlabel(\"Predicted\")\n",
    "plt.ylabel(\"Actual\")\n",
    "plt.show()\n",
    "print('\\n')"
   ]
  },
  {
   "cell_type": "code",
   "execution_count": null,
   "id": "af75a96b-8ccc-4b41-b2a2-8ee90f178c10",
   "metadata": {},
   "outputs": [],
   "source": [
    "from sklearn.metrics import roc_curve, auc\n",
    "\n",
    "# Calculate ROC curve and AUC\n",
    "fpr, tpr, thresholds = roc_curve(y_smote, y_pred_cv)\n",
    "roc_auc = auc(fpr, tpr)\n",
    "roc_auc"
   ]
  },
  {
   "cell_type": "markdown",
   "id": "8559fae3-5768-4adb-a698-52ee1c11bb81",
   "metadata": {},
   "source": [
    "An ROC curve is a commonly used way to visualize the performance of a binary classifier. \n",
    "\n",
    "- **True Positive Rate (TPR)**, or recall, is the ratio of true positive predictions to the actual number of positive cases. It is calculated as:\n",
    "$$\n",
    "\\text{TPR} = \\frac{\\text{True Positives}}{\\text{True Positives} + \\text{False Negatives}}\n",
    "$$\n",
    "TPR is a measure of the model's ability to correctly identify all actual positives.\n",
    "\n",
    "- **False Positive Rate (FPR)** \n",
    "\n",
    "This sees out of all the actually negative classes, how many is our model says as false positive\n",
    "The FPR is a measure of how many negative results are incorrectly identified as positive. It is calculated as the number of false positives divided by the total number of actual negatives (true negatives plus false positives). In mathematical terms:\n",
    "$$\n",
    "\\text{FPR} = \\frac{\\text{False Positives}}{\\text{False Positives} + \\text{True Negatives}}\n",
    "$$\n",
    "\n",
    "- **Objective** \n",
    "\n",
    "The goal is to maximize TPR (aiming for a value of 1) while minimizing FPR (aiming for a value of 0). Both TPR and FPR range between 0 and 1.\n",
    "\n",
    "- **Area Under the Curve (AUC)** \n",
    "\n",
    "AUC represents the area under the ROC curve and ranges from 0 to 1. A larger AUC value indicates a better-performing model."
   ]
  },
  {
   "cell_type": "code",
   "execution_count": null,
   "id": "1710b055-bda7-425e-92f4-e148321fbf56",
   "metadata": {},
   "outputs": [],
   "source": [
    "# Plot ROC curve\n",
    "plt.figure(figsize=(4, 4)) \n",
    "plt.plot(fpr, tpr, color='darkorange', lw=2, label='ROC curve (area = {:.2f})'.format(roc_auc))\n",
    "plt.plot([0, 1], [0, 1], color='navy', lw=2, linestyle='--') #lw sets line width\n",
    "plt.xlim([0.0, 1.0])\n",
    "plt.ylim([0.0, 1.0])\n",
    "plt.xlabel('False Positive Rate')\n",
    "plt.ylabel('True Positive Rate')\n",
    "plt.title('Receiver Operating Characteristic (ROC) Curve')\n",
    "plt.legend(loc='lower right')\n",
    "plt.show()"
   ]
  },
  {
   "cell_type": "code",
   "execution_count": null,
   "id": "ff459a55-fc26-4b73-b6f6-e9f0f5987654",
   "metadata": {},
   "outputs": [],
   "source": [
    "# Randomly selecting a row and making prediction\n",
    "X= X_smote\n",
    "y= y_smote\n",
    "\n",
    "random_row_no= np.random.randint(1, X.shape[0])\n",
    "\n",
    "row_to_predict = X.iloc[random_row_no, : ].values.reshape(1, -1)  # Reshape to 2D array\n",
    "\n",
    "# Use the trained model to predict the class for the scaled input\n",
    "predicted_class = best_model.predict(row_to_predict)\n",
    "\n",
    "# Print the predicted class\n",
    "print('Selected Row Number: {}'.format(random_row_no))\n",
    "print(\"Predicted Class: {} \".format(predicted_class[0]))\n",
    "print(\"Actual Class: {} \".format(y[random_row_no]))"
   ]
  },
  {
   "cell_type": "code",
   "execution_count": null,
   "id": "ddcba692-c15a-4095-99fc-e9c044d33cde",
   "metadata": {},
   "outputs": [],
   "source": [
    "# Randomly selecting a row and making prediction\n",
    "random_row_no= np.random.randint(1, X.shape[0])\n",
    "\n",
    "row_to_predict = X.iloc[random_row_no, : ].values.reshape(1, -1)  # Reshape to 2D array\n",
    "\n",
    "# Use the trained model to predict the class for the scaled input\n",
    "predicted_class = best_model.predict(row_to_predict)\n",
    "\n",
    "# Print the predicted class\n",
    "print('Selected Row Number: {}'.format(random_row_no))\n",
    "print(\"Predicted Class: {} \".format(predicted_class[0]))\n",
    "print(\"Actual Class: {} \".format(y[random_row_no]))"
   ]
  },
  {
   "cell_type": "code",
   "execution_count": null,
   "id": "759ae446-00a1-4dbe-871c-a62f4931e810",
   "metadata": {
    "tags": []
   },
   "outputs": [],
   "source": [
    "from joblib import dump\n",
    "\n",
    "# Save the model to a file\n",
    "dump(logistic_model, 'models/logistic_regression_without_hyperparameter_tuning.pkl')\n",
    "print(\"Logistic regression model saved successfully.\")"
   ]
  },
  {
   "cell_type": "code",
   "execution_count": null,
   "id": "b619d3ac-b2e5-4fee-ad8a-54989d975b17",
   "metadata": {},
   "outputs": [],
   "source": [
    "from joblib import dump\n",
    "\n",
    "# Save the model to a file\n",
    "dump(best_model, 'models/logistic_regression_after_hyperparameter_tuning.pkl')\n",
    "print(\"Best Logistic regression model saved successfully.\")"
   ]
  },
  {
   "cell_type": "markdown",
   "id": "e6dd9e2d-69b1-4123-94e5-f6c6a13d7281",
   "metadata": {},
   "source": [
    "## 2. K-NEAREST NEIGHBOR (KNN) MODEL"
   ]
  },
  {
   "cell_type": "markdown",
   "id": "6a12345a-8fc7-4f4d-8b31-68edcf4e17f4",
   "metadata": {},
   "source": [
    "### a. Without hyper-parameter tuning"
   ]
  },
  {
   "cell_type": "code",
   "execution_count": null,
   "id": "fd8fade4-3251-4669-b135-eea06a27fd5a",
   "metadata": {},
   "outputs": [],
   "source": [
    "from sklearn.neighbors import KNeighborsClassifier\n",
    "\n",
    "# Define K-Nearest Neighbors model\n",
    "knn_model = KNeighborsClassifier()\n",
    "\n",
    "# Fit the classifier\n",
    "knn_model.fit(X_smote, y_smote)"
   ]
  },
  {
   "cell_type": "code",
   "execution_count": null,
   "id": "f9a06a9b",
   "metadata": {},
   "outputs": [],
   "source": [
    "from sklearn.metrics import accuracy_score, classification_report, confusion_matrix\n",
    "from sklearn.model_selection import cross_val_predict, cross_val_score\n",
    "\n",
    "# Perform cross-validation to get cross-validated predictions\n",
    "y_pred_cv = cross_val_predict(knn_model, X_smote, y_smote, cv= 5, verbose= 2)\n",
    "\n",
    "# Calculate cross-validation scores\n",
    "scores = cross_val_score(knn_model, X_smote, y_smote, cv= 5, scoring= 'accuracy', verbose= 2)\n",
    "\n",
    "# Calculate the average accuracy from cross-validation\n",
    "mean_accuracy = np.mean(scores)\n",
    "print(f'Mean Accuracy: {mean_accuracy : .2f}')\n",
    "\n",
    "# Calculate the cross-validation accuracy score\n",
    "cross_val_accuracy = accuracy_score(y_smote, y_pred_cv)\n",
    "print(f'Cross-Validation Accuracy: {cross_val_accuracy : .2f}')"
   ]
  },
  {
   "cell_type": "code",
   "execution_count": null,
   "id": "db9398c7",
   "metadata": {},
   "outputs": [],
   "source": [
    "from sklearn.metrics import classification_report, confusion_matrix\n",
    "\n",
    "# Print classification report for cross-validated predictions\n",
    "classification_rep = classification_report(y_smote, y_pred_cv)\n",
    "print(\"Classification Report: \\n\\n {}\".format(classification_rep))\n",
    "\n",
    "# Create a confusion matrix for cross-validated predictions\n",
    "confusion_mat = confusion_matrix(y_smote, y_pred_cv)\n",
    "\n",
    "# Convert confusion matrix to DataFrame for better formatting and display\n",
    "confusion_df = pd.DataFrame(confusion_mat, index= ['Actual Negative', 'Actual Positive'], columns= ['Predicted Negative', 'Predicted Positive'])\n",
    "\n",
    "# Display the confusion matrix\n",
    "print(\"\\nConfusion Matrix:\")\n",
    "display(confusion_df)\n",
    "\n",
    "# Plot the confusion matrix\n",
    "plt.figure(figsize=(7, 6))\n",
    "sns.heatmap(confusion_df, annot= True, fmt= \"g\", cmap= 'BuGn') #fmt g is to show the entire number without the e term\n",
    "plt.title(\"Confusion Matrix\")\n",
    "plt.xlabel(\"Predicted\")\n",
    "plt.ylabel(\"Actual\")\n",
    "plt.show()"
   ]
  },
  {
   "cell_type": "markdown",
   "id": "a737598f-7b99-4103-bd44-da92095046b0",
   "metadata": {
    "tags": []
   },
   "source": [
    "### b. With hyper-parameter tuning"
   ]
  },
  {
   "cell_type": "code",
   "execution_count": null,
   "id": "0792c09d-4872-41c2-bb2e-b7ed6ca06b92",
   "metadata": {
    "tags": []
   },
   "outputs": [],
   "source": [
    "from sklearn.model_selection import GridSearchCV\n",
    "from sklearn.neighbors import KNeighborsClassifier\n",
    "\n",
    "# Define the parameter values that should be searched\n",
    "param_grid = {\n",
    "    'n_neighbors': [3, 5, 7, 9, 13],\n",
    "    'weights': ['uniform', 'distance'],\n",
    "    'p': [1, 2] #1 for manhattan distance and 2 for euclidean distance\n",
    "}\n",
    "\n",
    "\n",
    "# Instantiate the grid\n",
    "knn = KNeighborsClassifier()\n",
    "grid = GridSearchCV(knn, param_grid, cv= 5, scoring= 'accuracy', n_jobs= -1, verbose= 3)\n",
    "\n",
    "# Fit the grid with data\n",
    "grid.fit(X_smote, y_smote)"
   ]
  },
  {
   "cell_type": "markdown",
   "id": "03c57356-16c8-4551-a3c1-1856940e245a",
   "metadata": {},
   "source": [
    "- **n_neighbors**: The number of neighbors to consider when making a prediction. We're trying all values from 1 to 30.\n",
    "- **weights**: Controls how the classification decision is made. The options are 'uniform' (all points in each neighborhood are weighted equally) and 'distance' (points are weighted by the inverse of their distance, so closer points have a greater influence).\n",
    "- **p**: The power parameter for the Minkowski metric. When `p=1`, this is equivalent to using manhattan_distance (l1), and `p=2` corresponds to using euclidean_distance (l2). We're trying both options in our grid search.\n",
    "- **cv**: The number of cross-validation folds to use. Cross-validation is a way to estimate the generalization performance of a model, by splitting the data into `k` folds and doing `k` iterations where each fold is used once as the validation set.\n",
    "- **scoring**: The scoring metric to use. In our case, we're using 'accuracy', which is the fraction of correctly classified samples.\n",
    "- **n_jobs**: The number of jobs to run in parallel. `-1` means using all processors.\n"
   ]
  },
  {
   "cell_type": "code",
   "execution_count": null,
   "id": "86e53327-2d8e-4680-a427-283585d0f45d",
   "metadata": {
    "tags": []
   },
   "outputs": [],
   "source": [
    "# Examine the best model\n",
    "print('Best Score: {}'.format(grid.best_score_))\n",
    "print('Best Parameter values: {}'.format(grid.best_params_))"
   ]
  },
  {
   "cell_type": "code",
   "execution_count": null,
   "id": "a9b89e32-2484-4e86-b716-6e6cc9f12022",
   "metadata": {
    "tags": []
   },
   "outputs": [],
   "source": [
    "best_params= grid.best_params_\n",
    "\n",
    "best_knn_classifer= KNeighborsClassifier(n_neighbors= best_params.get('n_neighbors'), p= best_params.get('p'), weights= best_params.get('weights'))\n",
    "best_knn_classifer.fit(X_smote, y_smote)                           "
   ]
  },
  {
   "cell_type": "code",
   "execution_count": null,
   "id": "501c92f5-7ce4-4fe9-a391-ecf7f794e6c4",
   "metadata": {
    "tags": []
   },
   "outputs": [],
   "source": [
    "from sklearn.metrics import accuracy_score, classification_report, confusion_matrix\n",
    "from sklearn.model_selection import cross_val_predict, cross_val_score\n",
    "\n",
    "# Perform cross-validation to get cross-validated predictions\n",
    "y_pred_cv = cross_val_predict(best_knn_classifer, X_smote, y_smote, cv=5, verbose=2)\n",
    "\n",
    "# Calculate cross-validation scores\n",
    "scores = cross_val_score(best_knn_classifer, X_smote, y_smote, cv=5, scoring='accuracy', verbose= 2)\n",
    "\n",
    "# Calculate the average accuracy from cross-validation\n",
    "mean_accuracy = np.mean(scores)\n",
    "print(f'Mean Accuracy: {mean_accuracy : .2f}')\n",
    "\n",
    "# Calculate the cross-validation accuracy score\n",
    "cross_val_accuracy = accuracy_score(y_smote, y_pred_cv)\n",
    "print(f'Cross-Validation Accuracy: {cross_val_accuracy : .2f}')"
   ]
  },
  {
   "cell_type": "code",
   "execution_count": null,
   "id": "f333cfb2-7256-4438-bb9c-d03fc7b6482e",
   "metadata": {
    "tags": []
   },
   "outputs": [],
   "source": [
    "from sklearn.metrics import classification_report, confusion_matrix\n",
    "\n",
    "# Print classification report for cross-validated predictions\n",
    "classification_rep = classification_report(y_smote, y_pred_cv)\n",
    "print(\"Classification Report: \\n\\n {}\".format(classification_rep))\n",
    "\n",
    "# Create a confusion matrix for cross-validated predictions\n",
    "confusion_mat = confusion_matrix(y_smote, y_pred_cv)\n",
    "\n",
    "# Convert confusion matrix to DataFrame for better formatting and display\n",
    "confusion_df = pd.DataFrame(confusion_mat, index=['Actual Negative', 'Actual Positive'], columns=['Predicted Negative', 'Predicted Positive'])\n",
    "\n",
    "# Display the confusion matrix\n",
    "print(\"\\nConfusion Matrix:\")\n",
    "display(confusion_df)\n",
    "\n",
    "# Plot the confusion matrix\n",
    "plt.figure(figsize=(7, 6))\n",
    "sns.heatmap(confusion_df, annot=True, fmt=\"g\", cmap='BuGn') #fmt g is to show the entire number without the e term\n",
    "plt.title(\"Confusion Matrix\")\n",
    "plt.xlabel(\"Predicted\")\n",
    "plt.ylabel(\"Actual\")\n",
    "plt.show()"
   ]
  },
  {
   "cell_type": "code",
   "execution_count": null,
   "id": "00d69e0b-d8a6-413f-b3c8-e0a7f937ebe9",
   "metadata": {},
   "outputs": [],
   "source": [
    "from sklearn.metrics import roc_curve, auc\n",
    "\n",
    "# Calculate ROC curve and AUC\n",
    "fpr, tpr, thresholds = roc_curve(y_smote, y_pred_cv)\n",
    "roc_auc = auc(fpr, tpr)"
   ]
  },
  {
   "cell_type": "code",
   "execution_count": null,
   "id": "3674cc91-a913-439d-a34d-494d39372f63",
   "metadata": {},
   "outputs": [],
   "source": [
    "# Plot ROC curve\n",
    "plt.figure(figsize=(4, 4)) \n",
    "plt.plot(fpr, tpr, color='darkorange', lw=2, label='ROC curve (area = {:.2f})'.format(roc_auc))\n",
    "plt.plot([0, 1], [0, 1], color='navy', lw=2, linestyle='--')\n",
    "plt.xlim([0.0, 1.0])\n",
    "plt.ylim([0.0, 1.05])\n",
    "plt.xlabel('False Positive Rate')\n",
    "plt.ylabel('True Positive Rate')\n",
    "plt.title('Receiver Operating Characteristic (ROC) Curve')\n",
    "plt.legend(loc='lower right')\n",
    "plt.show()"
   ]
  },
  {
   "cell_type": "code",
   "execution_count": null,
   "id": "dabadf73-91fa-4324-88fd-1afd65c20316",
   "metadata": {},
   "outputs": [],
   "source": [
    "# Randomly selecting a row and making prediction\n",
    "random_row_no= np.random.randint(1, X.shape[0])\n",
    "\n",
    "row_to_predict = X.iloc[random_row_no, : ].values.reshape(1, -1)  # Reshape to 2D array\n",
    "\n",
    "# Use the trained model to predict the class for the scaled input\n",
    "predicted_class = best_knn_classifer.predict(row_to_predict)\n",
    "\n",
    "# Print the predicted class\n",
    "print('Selected Row Number: {}'.format(random_row_no))\n",
    "print(\"Predicted Class: {} \".format(predicted_class[0]))\n",
    "print(\"Actual Class: {} \".format(y[random_row_no]))"
   ]
  },
  {
   "cell_type": "code",
   "execution_count": null,
   "id": "6d662e54-1e97-4371-9317-0b60447c3013",
   "metadata": {},
   "outputs": [],
   "source": [
    "# Randomly selecting a row and making prediction\n",
    "random_row_no= np.random.randint(1, X.shape[0])\n",
    "\n",
    "row_to_predict = X.iloc[random_row_no, : ].values.reshape(1, -1)  # Reshape to 2D array\n",
    "\n",
    "# Use the trained model to predict the class for the scaled input\n",
    "predicted_class = best_knn_classifer.predict(row_to_predict)\n",
    "\n",
    "# Print the predicted class\n",
    "print('Selected Row Number: {}'.format(random_row_no))\n",
    "print(\"Predicted Class: {} \".format(predicted_class[0]))\n",
    "print(\"Actual Class: {} \".format(y[random_row_no]))"
   ]
  },
  {
   "cell_type": "code",
   "execution_count": null,
   "id": "583b7d2c-4a72-46a5-9d0f-eee34195fa1a",
   "metadata": {
    "tags": []
   },
   "outputs": [],
   "source": [
    "from joblib import dump\n",
    "\n",
    "# Save the model to a file\n",
    "dump(knn_model, 'models/knn_classifier_without_hyperparameter_tuning.pkl')\n",
    "print(\"knn classifier saved successfully!\")"
   ]
  },
  {
   "cell_type": "code",
   "execution_count": null,
   "id": "eccc268d-f16f-4064-a768-85d4295e23bf",
   "metadata": {
    "tags": []
   },
   "outputs": [],
   "source": [
    "from joblib import dump\n",
    "\n",
    "# Save the model to a file\n",
    "dump(best_knn_classifer, 'models/knn_classifier_after_hyperparameter_tuning.pkl')\n",
    "print(\"Best Logistic knn classifier saved successfully!\")"
   ]
  },
  {
   "cell_type": "markdown",
   "id": "207a6306-2a1c-4b7b-94d3-6e8767a17a86",
   "metadata": {},
   "source": [
    "## 3. Naive Bayes "
   ]
  },
  {
   "cell_type": "code",
   "execution_count": null,
   "id": "51deceac-e53f-415a-93c9-05fc92843e8c",
   "metadata": {
    "tags": []
   },
   "outputs": [],
   "source": [
    "from sklearn.naive_bayes import GaussianNB\n",
    "from sklearn.model_selection import train_test_split\n",
    "from sklearn.metrics import accuracy_score, confusion_matrix\n",
    "\n",
    "# Assuming you have your data X_smote and corresponding labels y_smote\n",
    "\n",
    "# Split the data into training and testing sets\n",
    "X_train, X_test, y_train, y_test = train_test_split(X_smote, y_smote, test_size=0.2, random_state=42)\n",
    "\n",
    "# Define Naive Bayes model (Gaussian Naive Bayes in this case)\n",
    "naive_bayes_model = GaussianNB()\n",
    "\n",
    "# Train the Naive Bayes classifier\n",
    "naive_bayes_model.fit(X_train, y_train)\n",
    "\n",
    "# Test the classifier\n",
    "y_pred = naive_bayes_model.predict(X_test)\n",
    "\n",
    "# Calculate accuracy\n",
    "accuracy = accuracy_score(y_test, y_pred)\n",
    "print(\"Accuracy of Naive Bayes model:\", accuracy)\n"
   ]
  },
  {
   "cell_type": "code",
   "execution_count": null,
   "id": "d8b0b970-8104-4e08-863b-e52cbb40db2d",
   "metadata": {
    "tags": []
   },
   "outputs": [],
   "source": [
    "import seaborn as sns\n",
    "import matplotlib.pyplot as plt\n",
    "\n",
    "# Generate confusion matrix\n",
    "cm = confusion_matrix(y_test, y_pred)\n",
    "\n",
    "# Plot confusion matrix\n",
    "plt.figure(figsize=(8, 6))\n",
    "sns.heatmap(cm, annot=True, cmap=\"Blues\", fmt=\"d\", xticklabels=['Negative', 'Positive'], yticklabels=['Negative', 'Positive'])\n",
    "plt.xlabel('Predicted')\n",
    "plt.ylabel('Actual')\n",
    "plt.title('Confusion Matrix')\n",
    "plt.show()\n"
   ]
  },
  {
   "cell_type": "code",
   "execution_count": null,
   "id": "acacffc0-9ea7-4caa-8a5e-ff5516e6ad8b",
   "metadata": {
    "tags": []
   },
   "outputs": [],
   "source": [
    "from sklearn.naive_bayes import GaussianNB\n",
    "from sklearn.model_selection import cross_val_predict, cross_val_score\n",
    "from sklearn.metrics import accuracy_score, classification_report, confusion_matrix, roc_curve, auc\n",
    "import numpy as np\n",
    "import matplotlib.pyplot as plt\n",
    "import seaborn as sns\n",
    "\n",
    "# Assuming X_smote and y_smote are defined and imported\n",
    "\n",
    "# Define Naive Bayes model (Gaussian Naive Bayes in this case)\n",
    "naive_bayes_model = GaussianNB()\n",
    "\n",
    "# Perform cross-validation to get cross-validated predictions\n",
    "y_pred_cv = cross_val_predict(naive_bayes_model, X_smote, y_smote, cv=5)\n",
    "\n",
    "# Calculate cross-validation scores\n",
    "scores = cross_val_score(naive_bayes_model, X_smote, y_smote, cv=5, scoring='accuracy')\n",
    "\n",
    "# Calculate the average accuracy from cross-validation\n",
    "mean_accuracy = np.mean(scores)\n",
    "print(f'Mean Accuracy: {mean_accuracy : .2f}')\n",
    "\n",
    "# Calculate the cross-validation accuracy score\n",
    "cross_val_accuracy = accuracy_score(y_smote, y_pred_cv)\n",
    "print(f'Cross-Validation Accuracy: {cross_val_accuracy : .2f}')\n",
    "\n",
    "# Generate confusion matrix\n",
    "conf_matrix = confusion_matrix(y_smote, y_pred_cv)\n",
    "\n",
    "# Plot confusion matrix\n",
    "plt.figure(figsize=(8, 6))\n",
    "sns.heatmap(conf_matrix, annot=True, cmap=\"Blues\", fmt=\"d\", xticklabels=['Negative', 'Positive'], yticklabels=['Negative', 'Positive'])\n",
    "plt.xlabel('Predicted')\n",
    "plt.ylabel('Actual')\n",
    "plt.title('Confusion Matrix')\n",
    "plt.show()\n",
    "\n",
    "# Generate classification report\n",
    "class_report = classification_report(y_smote, y_pred_cv)\n",
    "print(\"Classification Report:\")\n",
    "print(class_report)\n",
    "\n",
    "# Plot ROC curve\n",
    "y_scores = cross_val_predict(naive_bayes_model, X_smote, y_smote, cv=5, method=\"predict_proba\")[:, 1]\n",
    "fpr, tpr, thresholds = roc_curve(y_smote, y_scores)\n",
    "roc_auc = auc(fpr, tpr)\n",
    "\n",
    "plt.figure()\n",
    "plt.plot(fpr, tpr, color='darkorange', lw=2, label='ROC curve (area = %0.2f)' % roc_auc)\n",
    "plt.plot([0, 1], [0, 1], color='navy', lw=2, linestyle='--')\n",
    "plt.xlim([0.0, 1.0])\n",
    "plt.ylim([0.0, 1.05])\n",
    "plt.xlabel('False Positive Rate')\n",
    "plt.ylabel('True Positive Rate')\n",
    "plt.title('Receiver Operating Characteristic')\n",
    "plt.legend(loc=\"lower right\")\n",
    "plt.show()\n"
   ]
  },
  {
   "cell_type": "code",
   "execution_count": null,
   "id": "05c506c0-f9ef-4b6c-aefa-d7857172a5ae",
   "metadata": {},
   "outputs": [],
   "source": [
    "from joblib import dump\n",
    "\n",
    "# Save the model to a file\n",
    "dump(naive_bayes_model, 'models/naive_bayes_model.pkl')\n",
    "print(\"Naive Bayes model saved successfully!\")"
   ]
  },
  {
   "cell_type": "markdown",
   "id": "327f49e5",
   "metadata": {},
   "source": [
    "## 4. Random Forest"
   ]
  },
  {
   "cell_type": "markdown",
   "id": "bc66052b",
   "metadata": {},
   "source": [
    "Random forest is a machine learning algorithm that builds multiple decision trees during training and outputs the class that is the mode of the classes (classification) or mean prediction (regression) of the individual trees. It improves accuracy and prevents overfitting by averaging multiple predictions."
   ]
  },
  {
   "cell_type": "code",
   "execution_count": 15,
   "id": "dc3ac3cc",
   "metadata": {},
   "outputs": [],
   "source": [
    "from sklearn.ensemble import RandomForestClassifier, AdaBoostClassifier\n",
    "from sklearn.model_selection import KFold, train_test_split, cross_val_score\n",
    "from sklearn.metrics import confusion_matrix, classification_report, roc_curve, auc\n",
    "\n",
    "# re-enabling warnings\n",
    "warnings.resetwarnings()\n",
    "\n",
    "# Split data into training and testing sets\n",
    "x_train, x_test, y_train, y_test = train_test_split(X_smote, y_smote, test_size=0.3, random_state=1)"
   ]
  },
  {
   "cell_type": "markdown",
   "id": "56f99d69",
   "metadata": {},
   "source": [
    "Here we split the data into 2 sets named train & test with 70% into train. <br />\n",
    "This is done so that we can test the model against test data which will be totally unseen data to the model during training"
   ]
  },
  {
   "cell_type": "markdown",
   "id": "d299b86d",
   "metadata": {},
   "source": [
    "### a. Without AdaBoosting"
   ]
  },
  {
   "cell_type": "markdown",
   "id": "a5c6177a",
   "metadata": {},
   "source": [
    "When performing cross-validation the sample set is randomly divided into given number of folds(5). But as this is performed randomly, each re-run of the same code will produce varying results. As a solution for that we can use a KFold object and define an int for random_state. This forces the code to use the same random generation seed accross reruns essentially gurantying same set of sets for cross-validation each time."
   ]
  },
  {
   "cell_type": "code",
   "execution_count": 5,
   "id": "068b2a60",
   "metadata": {},
   "outputs": [],
   "source": [
    "# Using a kFold with random state=1 to maintain same set of splits against reruns\n",
    "kFold = KFold(shuffle=True, random_state=1)"
   ]
  },
  {
   "cell_type": "markdown",
   "id": "1636793c",
   "metadata": {},
   "source": [
    "There are many matrics that can be used to evaluate corss-validation. Amoung them the most popular choice is 'accuracy'. In the below code we will be using all available options."
   ]
  },
  {
   "cell_type": "code",
   "execution_count": 6,
   "id": "660793de",
   "metadata": {},
   "outputs": [
    {
     "name": "stdout",
     "output_type": "stream",
     "text": [
      "Mean Accuracy: 0.9991 (Std: 0.0001)\n",
      "Mean Precision: 0.9992 (Std: 0.0001)\n",
      "Mean Recall: 0.9983 (Std: 0.0001)\n",
      "Mean F1: 0.9988 (Std: 0.0001)\n",
      "Mean Roc_auc: 1.0000 (Std: 0.0000)\n"
     ]
    }
   ],
   "source": [
    "# Initialize the Random Forest base estimator\n",
    "randomForest = RandomForestClassifier()\n",
    "\n",
    "# Perform cross-validation and evaluate using different metrics\n",
    "scoring = ['accuracy', 'precision', 'recall', 'f1', 'roc_auc']\n",
    "for metric in scoring:\n",
    "  scores = cross_val_score(randomForest, x_train, y_train, cv=kFold, scoring=metric)\n",
    "  print(f'Mean {metric.capitalize()}: {scores.mean():.4f} (Std: {scores.std():.4f})')"
   ]
  },
  {
   "cell_type": "markdown",
   "id": "81014e37",
   "metadata": {},
   "source": [
    "All the results indicate almost perfect scores. (mean: 1.00 & std: 0.00)<br />\n",
    "This may be due to overfitting. <br />\n",
    "Generally random forests are considered robust againt overfitting since it is an ensemble method wchich uses a colection of decision trees.<br />\n",
    "<br />\n",
    "Overfitting can be detected by validating the trained model against test data."
   ]
  },
  {
   "cell_type": "code",
   "execution_count": 7,
   "id": "4fc71b66",
   "metadata": {},
   "outputs": [
    {
     "name": "stdout",
     "output_type": "stream",
     "text": [
      "Training completed!\n",
      "prediction completed\n",
      "\n",
      "Classification Report: \n",
      "\n",
      "               precision    recall  f1-score   support\n",
      "\n",
      "           0       1.00      1.00      1.00     96532\n",
      "           1       1.00      1.00      1.00     47900\n",
      "\n",
      "    accuracy                           1.00    144432\n",
      "   macro avg       1.00      1.00      1.00    144432\n",
      "weighted avg       1.00      1.00      1.00    144432\n",
      "\n"
     ]
    }
   ],
   "source": [
    "# Fit the model on the entire training data for final evaluation\n",
    "randomForest.fit(x_train, y_train)\n",
    "print(\"Training completed!\", flush=True)\n",
    "\n",
    "# Make predictions on the test data\n",
    "y_pred = randomForest.predict(x_test)\n",
    "print(\"prediction completed\", flush=True)\n",
    "print(\"\", flush=True)\n",
    "\n",
    "# Using a report for evaluation against test set\n",
    "report = classification_report(y_test, y_pred)\n",
    "print(\"Classification Report: \\n\\n {}\".format(report))"
   ]
  },
  {
   "cell_type": "markdown",
   "id": "20c3ddc1",
   "metadata": {},
   "source": [
    "As validation against test data also yeilds in similar results the hypothesis of overfitting can be discarded.<br />\n",
    "<br />\n",
    "Lets use a confusion matrix to view the results of the trained randomForest."
   ]
  },
  {
   "cell_type": "code",
   "execution_count": 8,
   "id": "28d79823",
   "metadata": {},
   "outputs": [
    {
     "name": "stdout",
     "output_type": "stream",
     "text": [
      "\n",
      "Confusion Matrix:\n"
     ]
    },
    {
     "data": {
      "text/html": [
       "<div>\n",
       "<style scoped>\n",
       "    .dataframe tbody tr th:only-of-type {\n",
       "        vertical-align: middle;\n",
       "    }\n",
       "\n",
       "    .dataframe tbody tr th {\n",
       "        vertical-align: top;\n",
       "    }\n",
       "\n",
       "    .dataframe thead th {\n",
       "        text-align: right;\n",
       "    }\n",
       "</style>\n",
       "<table border=\"1\" class=\"dataframe\">\n",
       "  <thead>\n",
       "    <tr style=\"text-align: right;\">\n",
       "      <th></th>\n",
       "      <th>Predicted Negative</th>\n",
       "      <th>Predicted Positive</th>\n",
       "    </tr>\n",
       "  </thead>\n",
       "  <tbody>\n",
       "    <tr>\n",
       "      <th>Actual Negative</th>\n",
       "      <td>96511</td>\n",
       "      <td>21</td>\n",
       "    </tr>\n",
       "    <tr>\n",
       "      <th>Actual Positive</th>\n",
       "      <td>87</td>\n",
       "      <td>47813</td>\n",
       "    </tr>\n",
       "  </tbody>\n",
       "</table>\n",
       "</div>"
      ],
      "text/plain": [
       "                 Predicted Negative  Predicted Positive\n",
       "Actual Negative               96511                  21\n",
       "Actual Positive                  87               47813"
      ]
     },
     "metadata": {},
     "output_type": "display_data"
    },
    {
     "data": {
      "image/png": "[encoded data removed]",
      "text/plain": [
       "<Figure size 700x600 with 2 Axes>"
      ]
     },
     "metadata": {},
     "output_type": "display_data"
    }
   ],
   "source": [
    "# Create a confusion matrix for test data\n",
    "confusion_mat = confusion_matrix(y_test, y_pred)\n",
    "\n",
    "# Convert confusion matrix to DataFrame for better formatting and display\n",
    "confusion_df = pd.DataFrame(confusion_mat, index=['Actual Negative', 'Actual Positive'], columns=['Predicted Negative', 'Predicted Positive'])\n",
    "\n",
    "# Display the confusion matrix\n",
    "print(\"\\nConfusion Matrix:\")\n",
    "display(confusion_df)\n",
    "\n",
    "# Plot the confusion matrix\n",
    "plt.figure(figsize=(7, 6))\n",
    "sns.heatmap(confusion_df, annot=True, fmt=\"g\", cmap='BuGn') #fmt g is to show the entire number without the e term\n",
    "plt.title(\"Confusion Matrix\")\n",
    "plt.xlabel(\"Predicted\")\n",
    "plt.ylabel(\"Actual\")\n",
    "plt.show()"
   ]
  },
  {
   "cell_type": "code",
   "execution_count": 17,
   "id": "c4fdd627",
   "metadata": {},
   "outputs": [
    {
     "data": {
      "image/png": "[encoded data removed]",
      "text/plain": [
       "<Figure size 400x400 with 1 Axes>"
      ]
     },
     "metadata": {},
     "output_type": "display_data"
    }
   ],
   "source": [
    "# Plot ROC curve\n",
    "y_prob = randomForest.predict_proba(x_test)[:, 1]\n",
    "fpr, tpr, thresholds = roc_curve(y_test, y_prob)\n",
    "roc_auc = auc(fpr, tpr)\n",
    "\n",
    "plt.figure(figsize=(4, 4))\n",
    "plt.plot(fpr, tpr, color='darkorange', lw=2, label='ROC curve (area = %0.2f)' % roc_auc)\n",
    "plt.plot([0, 1], [0, 1], color='navy', lw=2, linestyle='--')\n",
    "plt.xlim([0.0, 1.0])\n",
    "plt.ylim([0.0, 1.05])\n",
    "plt.xlabel('False Positive Rate')\n",
    "plt.ylabel('True Positive Rate')\n",
    "plt.title('Receiver Operating Characteristic')\n",
    "plt.legend(loc=\"lower right\")\n",
    "plt.show()"
   ]
  },
  {
   "cell_type": "markdown",
   "id": "71d2fd36",
   "metadata": {},
   "source": [
    "### b. With Adaboosting"
   ]
  },
  {
   "cell_type": "markdown",
   "id": "58f39a92",
   "metadata": {},
   "source": [
    "AdaBoosting (Adaptive Boosting) is also an ensemble method that works by combining multiple estimators of the same type to enhance its output. Adaboosing performs by identifying misclassified and unclassified instances of the previous classification round and allocating them higher weights when selecting instances for the nect classification round. This enforces that each instance will has a higher chance of being classified at least once during the entire process."
   ]
  },
  {
   "cell_type": "code",
   "execution_count": 9,
   "id": "08263dee",
   "metadata": {},
   "outputs": [
    {
     "name": "stdout",
     "output_type": "stream",
     "text": [
      "Mean Accuracy: 0.9992 (Std: 0.0001)\n",
      "Mean Precision: 0.9992 (Std: 0.0001)\n",
      "Mean Recall: 0.9983 (Std: 0.0002)\n",
      "Mean F1: 0.9987 (Std: 0.0001)\n",
      "Mean Roc_auc: 0.9990 (Std: 0.0001)\n"
     ]
    }
   ],
   "source": [
    "# Initialize the Random Forest base estimator\n",
    "rf = RandomForestClassifier()\n",
    "\n",
    "# Initialise Adabooster\n",
    "boostedForest = AdaBoostClassifier(estimator=rf, algorithm=\"SAMME\")\n",
    "\n",
    "# Perform cross-validation and evaluate using different metrics\n",
    "scoring = ['accuracy', 'precision', 'recall', 'f1', 'roc_auc']\n",
    "for metric in scoring:\n",
    "  scores = cross_val_score(boostedForest, x_train, y_train, cv=kFold, scoring=metric)\n",
    "  print(f'Mean {metric.capitalize()}: {scores.mean():.4f} (Std: {scores.std():.4f})')"
   ]
  },
  {
   "cell_type": "markdown",
   "id": "d013bc89",
   "metadata": {},
   "source": [
    "The results with adaboosing yields slightly higher results than without adaboosing. Only seeing a minimal improvement could be because randomForest is already an ensemble method and further improvement is critically harder."
   ]
  },
  {
   "cell_type": "code",
   "execution_count": 10,
   "id": "7cdcf3cb",
   "metadata": {},
   "outputs": [
    {
     "name": "stdout",
     "output_type": "stream",
     "text": [
      "Training completed!\n",
      "prediction completed\n",
      "\n",
      "Classification Report: \n",
      "\n",
      "               precision    recall  f1-score   support\n",
      "\n",
      "           0       1.00      1.00      1.00     96532\n",
      "           1       1.00      1.00      1.00     47900\n",
      "\n",
      "    accuracy                           1.00    144432\n",
      "   macro avg       1.00      1.00      1.00    144432\n",
      "weighted avg       1.00      1.00      1.00    144432\n",
      "\n"
     ]
    }
   ],
   "source": [
    "# Fit the model on the entire training data for final evaluation\n",
    "boostedForest.fit(x_train, y_train)\n",
    "print(\"Training completed!\", flush=True)\n",
    "\n",
    "# Make predictions on the test data\n",
    "y_pred = boostedForest.predict(x_test)\n",
    "print(\"prediction completed\", flush=True)\n",
    "print(\"\", flush=True)\n",
    "\n",
    "# Using a report for evaluation against test set\n",
    "report = classification_report(y_test, y_pred)\n",
    "print(\"Classification Report: \\n\\n {}\".format(report))"
   ]
  },
  {
   "cell_type": "code",
   "execution_count": 11,
   "id": "a6b8ef1b",
   "metadata": {},
   "outputs": [
    {
     "name": "stdout",
     "output_type": "stream",
     "text": [
      "\n",
      "Confusion Matrix:\n"
     ]
    },
    {
     "data": {
      "text/html": [
       "<div>\n",
       "<style scoped>\n",
       "    .dataframe tbody tr th:only-of-type {\n",
       "        vertical-align: middle;\n",
       "    }\n",
       "\n",
       "    .dataframe tbody tr th {\n",
       "        vertical-align: top;\n",
       "    }\n",
       "\n",
       "    .dataframe thead th {\n",
       "        text-align: right;\n",
       "    }\n",
       "</style>\n",
       "<table border=\"1\" class=\"dataframe\">\n",
       "  <thead>\n",
       "    <tr style=\"text-align: right;\">\n",
       "      <th></th>\n",
       "      <th>Predicted Negative</th>\n",
       "      <th>Predicted Positive</th>\n",
       "    </tr>\n",
       "  </thead>\n",
       "  <tbody>\n",
       "    <tr>\n",
       "      <th>Actual Negative</th>\n",
       "      <td>96507</td>\n",
       "      <td>25</td>\n",
       "    </tr>\n",
       "    <tr>\n",
       "      <th>Actual Positive</th>\n",
       "      <td>86</td>\n",
       "      <td>47814</td>\n",
       "    </tr>\n",
       "  </tbody>\n",
       "</table>\n",
       "</div>"
      ],
      "text/plain": [
       "                 Predicted Negative  Predicted Positive\n",
       "Actual Negative               96507                  25\n",
       "Actual Positive                  86               47814"
      ]
     },
     "metadata": {},
     "output_type": "display_data"
    },
    {
     "data": {
      "image/png": "[encoded data removed]",
      "text/plain": [
       "<Figure size 700x600 with 2 Axes>"
      ]
     },
     "metadata": {},
     "output_type": "display_data"
    }
   ],
   "source": [
    "# Create a confusion matrix for test data\n",
    "confusion_mat = confusion_matrix(y_test, y_pred)\n",
    "\n",
    "# Convert confusion matrix to DataFrame for better formatting and display\n",
    "confusion_df = pd.DataFrame(confusion_mat, index=['Actual Negative', 'Actual Positive'], columns=['Predicted Negative', 'Predicted Positive'])\n",
    "\n",
    "# Display the confusion matrix\n",
    "print(\"\\nConfusion Matrix:\")\n",
    "display(confusion_df)\n",
    "\n",
    "# Plot the confusion matrix\n",
    "plt.figure(figsize=(7, 6))\n",
    "sns.heatmap(confusion_df, annot=True, fmt=\"g\", cmap='BuGn') #fmt g is to show the entire number without the e term\n",
    "plt.title(\"Confusion Matrix\")\n",
    "plt.xlabel(\"Predicted\")\n",
    "plt.ylabel(\"Actual\")\n",
    "plt.show()"
   ]
  },
  {
   "cell_type": "code",
   "execution_count": 18,
   "id": "911c924e",
   "metadata": {},
   "outputs": [
    {
     "data": {
      "image/png": "[encoded data removed]",
      "text/plain": [
       "<Figure size 400x400 with 1 Axes>"
      ]
     },
     "metadata": {},
     "output_type": "display_data"
    }
   ],
   "source": [
    "# Plot ROC curve\n",
    "y_prob = boostedForest.predict_proba(x_test)[:, 1]\n",
    "fpr, tpr, thresholds = roc_curve(y_test, y_prob)\n",
    "roc_auc = auc(fpr, tpr)\n",
    "\n",
    "plt.figure(figsize=(4, 4))\n",
    "plt.plot(fpr, tpr, color='darkorange', lw=2, label='ROC curve (area = %0.2f)' % roc_auc)\n",
    "plt.plot([0, 1], [0, 1], color='navy', lw=2, linestyle='--')\n",
    "plt.xlim([0.0, 1.0])\n",
    "plt.ylim([0.0, 1.05])\n",
    "plt.xlabel('False Positive Rate')\n",
    "plt.ylabel('True Positive Rate')\n",
    "plt.title('Receiver Operating Characteristic')\n",
    "plt.legend(loc=\"lower right\")\n",
    "plt.show()"
   ]
  },
  {
   "cell_type": "markdown",
   "id": "e075d976",
   "metadata": {},
   "source": [
    "### Discussion"
   ]
  },
  {
   "cell_type": "markdown",
   "id": "e9c0c016",
   "metadata": {},
   "source": [
    "In practise adaboosing is not used together with random forest as both are ensemble methods which when paired together results in exponentially higher trainig times. Yet theoretically they can poduce higher accuracy. If the requirement is critical enough this multilayered ensembling can be used to create a highly robust model to perform classification.<br />\n",
    "<br />\n",
    "There are a few hyper-parameters within this system that can be used to further enhance the model.\n",
    "\n",
    "\n",
    "  1. KFold-n_splits: This value(int) can be used to increase the number of folds used for cross validation allowing for better estimations of the model.\n",
    "  2. RandomForestClassifier-n_estimators: Number of decision trees to be built witin the forest.\n",
    "  3. RandomForestClassifier-max_depth: Maximum number of node levels allowed within a tree.\n",
    "  4. RandomForestClassifier-min_samples_split: Minimum number of features required within a node to continue splitting.\n",
    "  5. RandomForestClassifier-min_samples_leaf: Minimum number of features that should be present in resulting nodes after a split. \n",
    "  6. RandomForestClassifier-max_features: Maximum number of features considered for a split out of available within a node.\n",
    "  7. RandomForestClassifier-max_samples: Maximum number of samples to be used to train out of given sample sets.\n",
    "  8. AdaBoostClassifier-n_estimators: Number of base estimators to be used within the system classifier. (in this case, number of forests)\n",
    "  9. AdaBoostClassifier-learning_rate: contibution weight of each succesive estimator for the final result."
   ]
  },
  {
   "cell_type": "markdown",
   "id": "8a121b2f",
   "metadata": {},
   "source": [
    "### Exporting Models"
   ]
  },
  {
   "cell_type": "code",
   "execution_count": 12,
   "id": "a9520045",
   "metadata": {},
   "outputs": [
    {
     "name": "stdout",
     "output_type": "stream",
     "text": [
      "Random Forest model saved successfully.\n"
     ]
    }
   ],
   "source": [
    "from joblib import dump\n",
    "\n",
    "# Save the model to a file\n",
    "dump(randomForest, 'models/random_forest_without_adaboosting.pkl')\n",
    "print(\"Random Forest model saved successfully.\")"
   ]
  },
  {
   "cell_type": "code",
   "execution_count": 13,
   "id": "34e1694d",
   "metadata": {},
   "outputs": [
    {
     "name": "stdout",
     "output_type": "stream",
     "text": [
      "Boosted Random Forest model saved successfully.\n"
     ]
    }
   ],
   "source": [
    "from joblib import dump\n",
    "\n",
    "# Save the model to a file\n",
    "dump(boostedForest, 'models/random_forest_with_adaboosting.pkl')\n",
    "print(\"Boosted Random Forest model saved successfully.\")"
   ]
  }
 ],
 "metadata": {
  "kernelspec": {
   "display_name": "Python 3 (ipykernel)",
   "language": "python",
   "name": "python3"
  },
  "language_info": {
   "codemirror_mode": {
    "name": "ipython",
    "version": 3
   },
   "file_extension": ".py",
   "mimetype": "text/x-python",
   "name": "python",
   "nbconvert_exporter": "python",
   "pygments_lexer": "ipython3",
   "version": "3.11.4"
  }
 },
 "nbformat": 4,
 "nbformat_minor": 5
}
