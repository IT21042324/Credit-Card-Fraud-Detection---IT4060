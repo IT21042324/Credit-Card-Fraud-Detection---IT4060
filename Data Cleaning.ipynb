{
 "cells": [
  {
   "cell_type": "markdown",
   "id": "4a25b31f-cfeb-4383-8cc9-db4f60608be5",
   "metadata": {
    "tags": []
   },
   "source": [
    "# Data Preprocessing"
   ]
  },
  {
   "cell_type": "markdown",
   "id": "da752a6c-4fa1-4cf9-b126-a6dcacc058f9",
   "metadata": {},
   "source": [
    "### Importing relevant libraries"
   ]
  },
  {
   "cell_type": "code",
   "execution_count": 48,
   "id": "c58c05f5-3988-4ec5-94da-b2e6a1f9a2ef",
   "metadata": {},
   "outputs": [],
   "source": [
    "import pandas as pd\n",
    "import numpy as np\n",
    "import seaborn as sns\n",
    "import matplotlib.pyplot as plt\n",
    "import tensorflow as tf\n",
    "\n",
    "import warnings\n",
    "warnings.filterwarnings('ignore')"
   ]
  },
  {
   "cell_type": "markdown",
   "id": "1978c8cb-f406-42ce-ae55-93b5c1c012da",
   "metadata": {},
   "source": [
    "### Importing the dataset and viewing it"
   ]
  },
  {
   "cell_type": "code",
   "execution_count": 2,
   "id": "1f8aa14f-e17f-47c8-b8fb-3cf9e026c6d2",
   "metadata": {
    "tags": []
   },
   "outputs": [
    {
     "data": {
      "text/html": [
       "<div>\n",
       "<style scoped>\n",
       "    .dataframe tbody tr th:only-of-type {\n",
       "        vertical-align: middle;\n",
       "    }\n",
       "\n",
       "    .dataframe tbody tr th {\n",
       "        vertical-align: top;\n",
       "    }\n",
       "\n",
       "    .dataframe thead th {\n",
       "        text-align: right;\n",
       "    }\n",
       "</style>\n",
       "<table border=\"1\" class=\"dataframe\">\n",
       "  <thead>\n",
       "    <tr style=\"text-align: right;\">\n",
       "      <th></th>\n",
       "      <th>trans_date_trans_time</th>\n",
       "      <th>merchant</th>\n",
       "      <th>category</th>\n",
       "      <th>amt</th>\n",
       "      <th>city</th>\n",
       "      <th>state</th>\n",
       "      <th>lat</th>\n",
       "      <th>long</th>\n",
       "      <th>city_pop</th>\n",
       "      <th>job</th>\n",
       "      <th>dob</th>\n",
       "      <th>trans_num</th>\n",
       "      <th>merch_lat</th>\n",
       "      <th>merch_long</th>\n",
       "      <th>is_fraud</th>\n",
       "    </tr>\n",
       "  </thead>\n",
       "  <tbody>\n",
       "    <tr>\n",
       "      <th>0</th>\n",
       "      <td>2019-01-01 00:00:44</td>\n",
       "      <td>Heller, Gutmann and Zieme</td>\n",
       "      <td>grocery_pos</td>\n",
       "      <td>107.23</td>\n",
       "      <td>Orient</td>\n",
       "      <td>WA</td>\n",
       "      <td>48.8878</td>\n",
       "      <td>-118.2105</td>\n",
       "      <td>149</td>\n",
       "      <td>Special educational needs teacher</td>\n",
       "      <td>1978-06-21</td>\n",
       "      <td>1f76529f8574734946361c461b024d99</td>\n",
       "      <td>49.159047</td>\n",
       "      <td>-118.186462</td>\n",
       "      <td>0</td>\n",
       "    </tr>\n",
       "    <tr>\n",
       "      <th>1</th>\n",
       "      <td>2019-01-01 00:00:51</td>\n",
       "      <td>Lind-Buckridge</td>\n",
       "      <td>entertainment</td>\n",
       "      <td>220.11</td>\n",
       "      <td>Malad City</td>\n",
       "      <td>ID</td>\n",
       "      <td>42.1808</td>\n",
       "      <td>-112.2620</td>\n",
       "      <td>4154</td>\n",
       "      <td>Nature conservation officer</td>\n",
       "      <td>1962-01-19</td>\n",
       "      <td>a1a22d70485983eac12b5b88dad1cf95</td>\n",
       "      <td>43.150704</td>\n",
       "      <td>-112.154481</td>\n",
       "      <td>0</td>\n",
       "    </tr>\n",
       "    <tr>\n",
       "      <th>2</th>\n",
       "      <td>2019-01-01 00:07:27</td>\n",
       "      <td>Kiehn Inc</td>\n",
       "      <td>grocery_pos</td>\n",
       "      <td>96.29</td>\n",
       "      <td>Grenada</td>\n",
       "      <td>CA</td>\n",
       "      <td>41.6125</td>\n",
       "      <td>-122.5258</td>\n",
       "      <td>589</td>\n",
       "      <td>Systems analyst</td>\n",
       "      <td>1945-12-21</td>\n",
       "      <td>413636e759663f264aae1819a4d4f231</td>\n",
       "      <td>41.657520</td>\n",
       "      <td>-122.230347</td>\n",
       "      <td>0</td>\n",
       "    </tr>\n",
       "    <tr>\n",
       "      <th>3</th>\n",
       "      <td>2019-01-01 00:09:03</td>\n",
       "      <td>Beier-Hyatt</td>\n",
       "      <td>shopping_pos</td>\n",
       "      <td>7.77</td>\n",
       "      <td>High Rolls Mountain Park</td>\n",
       "      <td>NM</td>\n",
       "      <td>32.9396</td>\n",
       "      <td>-105.8189</td>\n",
       "      <td>899</td>\n",
       "      <td>Naval architect</td>\n",
       "      <td>1967-08-30</td>\n",
       "      <td>8a6293af5ed278dea14448ded2685fea</td>\n",
       "      <td>32.863258</td>\n",
       "      <td>-106.520205</td>\n",
       "      <td>0</td>\n",
       "    </tr>\n",
       "    <tr>\n",
       "      <th>4</th>\n",
       "      <td>2019-01-01 00:21:32</td>\n",
       "      <td>Bruen-Yost</td>\n",
       "      <td>misc_pos</td>\n",
       "      <td>6.85</td>\n",
       "      <td>Freedom</td>\n",
       "      <td>WY</td>\n",
       "      <td>43.0172</td>\n",
       "      <td>-111.0292</td>\n",
       "      <td>471</td>\n",
       "      <td>Education officer, museum</td>\n",
       "      <td>1967-08-02</td>\n",
       "      <td>f3c43d336e92a44fc2fb67058d5949e3</td>\n",
       "      <td>43.753735</td>\n",
       "      <td>-111.454923</td>\n",
       "      <td>0</td>\n",
       "    </tr>\n",
       "  </tbody>\n",
       "</table>\n",
       "</div>"
      ],
      "text/plain": [
       "  trans_date_trans_time                   merchant       category     amt  \\\n",
       "0   2019-01-01 00:00:44  Heller, Gutmann and Zieme    grocery_pos  107.23   \n",
       "1   2019-01-01 00:00:51             Lind-Buckridge  entertainment  220.11   \n",
       "2   2019-01-01 00:07:27                  Kiehn Inc    grocery_pos   96.29   \n",
       "3   2019-01-01 00:09:03                Beier-Hyatt   shopping_pos    7.77   \n",
       "4   2019-01-01 00:21:32                 Bruen-Yost       misc_pos    6.85   \n",
       "\n",
       "                       city state      lat      long  city_pop  \\\n",
       "0                    Orient    WA  48.8878 -118.2105       149   \n",
       "1                Malad City    ID  42.1808 -112.2620      4154   \n",
       "2                   Grenada    CA  41.6125 -122.5258       589   \n",
       "3  High Rolls Mountain Park    NM  32.9396 -105.8189       899   \n",
       "4                   Freedom    WY  43.0172 -111.0292       471   \n",
       "\n",
       "                                 job         dob  \\\n",
       "0  Special educational needs teacher  1978-06-21   \n",
       "1        Nature conservation officer  1962-01-19   \n",
       "2                    Systems analyst  1945-12-21   \n",
       "3                    Naval architect  1967-08-30   \n",
       "4          Education officer, museum  1967-08-02   \n",
       "\n",
       "                          trans_num  merch_lat  merch_long  is_fraud  \n",
       "0  1f76529f8574734946361c461b024d99  49.159047 -118.186462         0  \n",
       "1  a1a22d70485983eac12b5b88dad1cf95  43.150704 -112.154481         0  \n",
       "2  413636e759663f264aae1819a4d4f231  41.657520 -122.230347         0  \n",
       "3  8a6293af5ed278dea14448ded2685fea  32.863258 -106.520205         0  \n",
       "4  f3c43d336e92a44fc2fb67058d5949e3  43.753735 -111.454923         0  "
      ]
     },
     "execution_count": 2,
     "metadata": {},
     "output_type": "execute_result"
    }
   ],
   "source": [
    "#importing the dataset using pandas\n",
    "dataset = pd.read_csv('data/credit_card_fraud.csv')\n",
    "dataset.head()"
   ]
  },
  {
   "cell_type": "markdown",
   "id": "b3308488-0c05-4f79-9225-60382c8963dd",
   "metadata": {},
   "source": [
    "### Viewing all the column names and its datatypes\n"
   ]
  },
  {
   "cell_type": "code",
   "execution_count": 3,
   "id": "83cae41b-5c48-4749-9dee-6c147b2c11b9",
   "metadata": {
    "tags": []
   },
   "outputs": [
    {
     "data": {
      "text/plain": [
       "trans_date_trans_time     object\n",
       "merchant                  object\n",
       "category                  object\n",
       "amt                      float64\n",
       "city                      object\n",
       "state                     object\n",
       "lat                      float64\n",
       "long                     float64\n",
       "city_pop                   int64\n",
       "job                       object\n",
       "dob                       object\n",
       "trans_num                 object\n",
       "merch_lat                float64\n",
       "merch_long               float64\n",
       "is_fraud                   int64\n",
       "dtype: object"
      ]
     },
     "execution_count": 3,
     "metadata": {},
     "output_type": "execute_result"
    }
   ],
   "source": [
    "dataset.dtypes"
   ]
  },
  {
   "cell_type": "code",
   "execution_count": 4,
   "id": "01c47bd7-4716-4af1-94d9-4fb6f256a7de",
   "metadata": {
    "tags": []
   },
   "outputs": [
    {
     "data": {
      "text/html": [
       "<div>\n",
       "<style scoped>\n",
       "    .dataframe tbody tr th:only-of-type {\n",
       "        vertical-align: middle;\n",
       "    }\n",
       "\n",
       "    .dataframe tbody tr th {\n",
       "        vertical-align: top;\n",
       "    }\n",
       "\n",
       "    .dataframe thead th {\n",
       "        text-align: right;\n",
       "    }\n",
       "</style>\n",
       "<table border=\"1\" class=\"dataframe\">\n",
       "  <thead>\n",
       "    <tr style=\"text-align: right;\">\n",
       "      <th></th>\n",
       "      <th>amt</th>\n",
       "      <th>lat</th>\n",
       "      <th>long</th>\n",
       "      <th>city_pop</th>\n",
       "      <th>merch_lat</th>\n",
       "      <th>merch_long</th>\n",
       "      <th>is_fraud</th>\n",
       "    </tr>\n",
       "  </thead>\n",
       "  <tbody>\n",
       "    <tr>\n",
       "      <th>count</th>\n",
       "      <td>339607.000000</td>\n",
       "      <td>339607.000000</td>\n",
       "      <td>339607.000000</td>\n",
       "      <td>3.396070e+05</td>\n",
       "      <td>339607.000000</td>\n",
       "      <td>339607.000000</td>\n",
       "      <td>339607.000000</td>\n",
       "    </tr>\n",
       "    <tr>\n",
       "      <th>mean</th>\n",
       "      <td>70.577984</td>\n",
       "      <td>39.718991</td>\n",
       "      <td>-110.622605</td>\n",
       "      <td>1.071409e+05</td>\n",
       "      <td>39.718853</td>\n",
       "      <td>-110.622383</td>\n",
       "      <td>0.005247</td>\n",
       "    </tr>\n",
       "    <tr>\n",
       "      <th>std</th>\n",
       "      <td>161.675242</td>\n",
       "      <td>5.094961</td>\n",
       "      <td>12.651370</td>\n",
       "      <td>2.930299e+05</td>\n",
       "      <td>5.130894</td>\n",
       "      <td>12.663998</td>\n",
       "      <td>0.072248</td>\n",
       "    </tr>\n",
       "    <tr>\n",
       "      <th>min</th>\n",
       "      <td>1.000000</td>\n",
       "      <td>20.027100</td>\n",
       "      <td>-165.672300</td>\n",
       "      <td>4.600000e+01</td>\n",
       "      <td>19.027422</td>\n",
       "      <td>-166.671575</td>\n",
       "      <td>0.000000</td>\n",
       "    </tr>\n",
       "    <tr>\n",
       "      <th>25%</th>\n",
       "      <td>9.600000</td>\n",
       "      <td>36.715400</td>\n",
       "      <td>-120.093600</td>\n",
       "      <td>4.710000e+02</td>\n",
       "      <td>36.817194</td>\n",
       "      <td>-119.823755</td>\n",
       "      <td>0.000000</td>\n",
       "    </tr>\n",
       "    <tr>\n",
       "      <th>50%</th>\n",
       "      <td>46.460000</td>\n",
       "      <td>39.617100</td>\n",
       "      <td>-111.098500</td>\n",
       "      <td>1.645000e+03</td>\n",
       "      <td>39.586209</td>\n",
       "      <td>-111.036443</td>\n",
       "      <td>0.000000</td>\n",
       "    </tr>\n",
       "    <tr>\n",
       "      <th>75%</th>\n",
       "      <td>83.350000</td>\n",
       "      <td>41.710000</td>\n",
       "      <td>-100.621500</td>\n",
       "      <td>3.543900e+04</td>\n",
       "      <td>42.193072</td>\n",
       "      <td>-100.353096</td>\n",
       "      <td>0.000000</td>\n",
       "    </tr>\n",
       "    <tr>\n",
       "      <th>max</th>\n",
       "      <td>28948.900000</td>\n",
       "      <td>66.693300</td>\n",
       "      <td>-89.628700</td>\n",
       "      <td>2.383912e+06</td>\n",
       "      <td>67.510267</td>\n",
       "      <td>-88.629203</td>\n",
       "      <td>1.000000</td>\n",
       "    </tr>\n",
       "  </tbody>\n",
       "</table>\n",
       "</div>"
      ],
      "text/plain": [
       "                 amt            lat           long      city_pop  \\\n",
       "count  339607.000000  339607.000000  339607.000000  3.396070e+05   \n",
       "mean       70.577984      39.718991    -110.622605  1.071409e+05   \n",
       "std       161.675242       5.094961      12.651370  2.930299e+05   \n",
       "min         1.000000      20.027100    -165.672300  4.600000e+01   \n",
       "25%         9.600000      36.715400    -120.093600  4.710000e+02   \n",
       "50%        46.460000      39.617100    -111.098500  1.645000e+03   \n",
       "75%        83.350000      41.710000    -100.621500  3.543900e+04   \n",
       "max     28948.900000      66.693300     -89.628700  2.383912e+06   \n",
       "\n",
       "           merch_lat     merch_long       is_fraud  \n",
       "count  339607.000000  339607.000000  339607.000000  \n",
       "mean       39.718853    -110.622383       0.005247  \n",
       "std         5.130894      12.663998       0.072248  \n",
       "min        19.027422    -166.671575       0.000000  \n",
       "25%        36.817194    -119.823755       0.000000  \n",
       "50%        39.586209    -111.036443       0.000000  \n",
       "75%        42.193072    -100.353096       0.000000  \n",
       "max        67.510267     -88.629203       1.000000  "
      ]
     },
     "execution_count": 4,
     "metadata": {},
     "output_type": "execute_result"
    }
   ],
   "source": [
    "# Generate descriptive statistics of the data distribtion\n",
    "dataset.describe()  "
   ]
  },
  {
   "cell_type": "markdown",
   "id": "a73c7332-45f3-4bf8-9749-c28803556f38",
   "metadata": {},
   "source": [
    "### Generate descriptive statistics"
   ]
  },
  {
   "cell_type": "code",
   "execution_count": 5,
   "id": "0a1972d2-91e9-4018-b086-25e06c209c3d",
   "metadata": {
    "tags": []
   },
   "outputs": [
    {
     "data": {
      "text/plain": [
       "trans_date_trans_time     object\n",
       "merchant                  object\n",
       "category                  object\n",
       "amt                      float64\n",
       "city                      object\n",
       "state                     object\n",
       "lat                      float64\n",
       "long                     float64\n",
       "city_pop                   int64\n",
       "job                       object\n",
       "dob                       object\n",
       "trans_num                 object\n",
       "merch_lat                float64\n",
       "merch_long               float64\n",
       "is_fraud                   int64\n",
       "dtype: object"
      ]
     },
     "execution_count": 5,
     "metadata": {},
     "output_type": "execute_result"
    }
   ],
   "source": [
    "#Observing the datatypes of each column\n",
    "dataset.dtypes"
   ]
  },
  {
   "cell_type": "markdown",
   "id": "06fa4b7e-49d8-4c80-bc39-2cd2981825a3",
   "metadata": {},
   "source": [
    "# Checking for missing values"
   ]
  },
  {
   "cell_type": "code",
   "execution_count": 6,
   "id": "4da12a5e-d002-495c-9163-7fd3af903b77",
   "metadata": {
    "tags": []
   },
   "outputs": [
    {
     "data": {
      "text/plain": [
       "trans_date_trans_time    0\n",
       "merchant                 0\n",
       "category                 0\n",
       "amt                      0\n",
       "city                     0\n",
       "state                    0\n",
       "lat                      0\n",
       "long                     0\n",
       "city_pop                 0\n",
       "job                      0\n",
       "dob                      0\n",
       "trans_num                0\n",
       "merch_lat                0\n",
       "merch_long               0\n",
       "is_fraud                 0\n",
       "dtype: int64"
      ]
     },
     "execution_count": 6,
     "metadata": {},
     "output_type": "execute_result"
    }
   ],
   "source": [
    "#Checking for missing values\n",
    "dataset.isna().sum()"
   ]
  },
  {
   "cell_type": "markdown",
   "id": "88dd4eaa-455a-4b57-843a-0b7fc187cb52",
   "metadata": {},
   "source": [
    "There are no missing values to be found in the dataset."
   ]
  },
  {
   "cell_type": "markdown",
   "id": "750b94bc-a3ee-4688-8c9f-a1bf6c5e642e",
   "metadata": {},
   "source": [
    "### Checking for duplicates"
   ]
  },
  {
   "cell_type": "code",
   "execution_count": 7,
   "id": "571bc6d8-9d6e-4cb3-b157-6aa5ec9665fa",
   "metadata": {
    "tags": []
   },
   "outputs": [
    {
     "data": {
      "text/plain": [
       "0"
      ]
     },
     "execution_count": 7,
     "metadata": {},
     "output_type": "execute_result"
    }
   ],
   "source": [
    "#Number of duplicated samples\n",
    "dataset.duplicated().sum()"
   ]
  },
  {
   "cell_type": "markdown",
   "id": "058c552b-833a-431b-9653-b51f670f3756",
   "metadata": {},
   "source": [
    "There are no duplicate values to be found in the dataset"
   ]
  },
  {
   "cell_type": "markdown",
   "id": "260b19a8-5455-4fc4-9273-db49cf3bc2e8",
   "metadata": {},
   "source": [
    "## Exploring data, visualising it and understanding it"
   ]
  },
  {
   "cell_type": "code",
   "execution_count": 8,
   "id": "eb2f8bb0-feab-4bf1-9b71-b26632c99005",
   "metadata": {
    "tags": []
   },
   "outputs": [
    {
     "data": {
      "text/plain": [
       "is_fraud\n",
       "0    337825\n",
       "1      1782\n",
       "Name: count, dtype: int64"
      ]
     },
     "execution_count": 8,
     "metadata": {},
     "output_type": "execute_result"
    }
   ],
   "source": [
    "#Checking for the number of values under each class\n",
    "dataset.is_fraud.value_counts()"
   ]
  },
  {
   "cell_type": "code",
   "execution_count": 9,
   "id": "4d8cd86d-bff4-43cc-b700-995b29b103d3",
   "metadata": {
    "tags": []
   },
   "outputs": [
    {
     "data": {
      "image/png": "[encoded data removed]",
      "text/plain": [
       "<Figure size 640x480 with 1 Axes>"
      ]
     },
     "metadata": {},
     "output_type": "display_data"
    }
   ],
   "source": [
    "#Plotting the data distribution of the target variable\n",
    "\n",
    "plt.pie(dataset.is_fraud.value_counts(), labels = ['Legit', 'Fraudulent'], colors = ['palegreen', 'coral'], autopct = '%.1f%%')\n",
    "plt.legend()\n",
    "plt.axis('equal')\n",
    "plt.show()"
   ]
  },
  {
   "cell_type": "code",
   "execution_count": 10,
   "id": "d179a742-61c1-461b-8c40-33213e657626",
   "metadata": {
    "tags": []
   },
   "outputs": [
    {
     "data": {
      "image/png": "[encoded data removed]",
      "text/plain": [
       "<Figure size 640x480 with 1 Axes>"
      ]
     },
     "metadata": {},
     "output_type": "display_data"
    }
   ],
   "source": [
    "#Plotting the bar plot for is_fraud distribution of classes\n",
    "\n",
    "legit = dataset[dataset['is_fraud'] == 0]\n",
    "fraudulent = dataset[dataset['is_fraud'] == 1]\n",
    "\n",
    "plt.bar(0, len(legit), color='palegreen', label='Legit')\n",
    "plt.bar(1, len(fraudulent), color='coral', label='Fraudulent')\n",
    "\n",
    "plt.legend(loc='upper right')\n",
    "plt.show()"
   ]
  },
  {
   "cell_type": "markdown",
   "id": "1ba64d99-e950-446e-8502-f86d8d67e2a5",
   "metadata": {},
   "source": [
    "Based on the visualization, it is evident that our dataset exhibits a significant class imbalance between fraudulent and non-fraudulent transactions. This imbalance could potentially bias any predictive model trained on this data towards predicting the majority class, thereby undermining its ability to accurately identify fraudulent transactions.\n",
    "\n",
    "However, it is important to note that we should not rush into training our model with this dataset as it currently stands. Instead, we need to explore and implement strategies to address this class imbalance, thereby ensuring that our model is not unduly influenced by the disproportionate representation of classes."
   ]
  },
  {
   "cell_type": "markdown",
   "id": "c78f5fdb-7d6b-49b5-9e5a-249d238649ae",
   "metadata": {},
   "source": [
    "#### Checking the correlation with the target variable for numercial features"
   ]
  },
  {
   "cell_type": "code",
   "execution_count": 11,
   "id": "74ebf148-f2a4-43bf-b436-be94d64f9c41",
   "metadata": {
    "tags": []
   },
   "outputs": [
    {
     "data": {
      "text/plain": [
       "amt           0.201023\n",
       "lat           0.009239\n",
       "long         -0.004494\n",
       "city_pop      0.002338\n",
       "merch_lat     0.008848\n",
       "merch_long   -0.004550\n",
       "dtype: float64"
      ]
     },
     "execution_count": 11,
     "metadata": {},
     "output_type": "execute_result"
    }
   ],
   "source": [
    "# Checking the correlation with the target variable for numercial features\n",
    "\n",
    "numerical_cols = dataset.select_dtypes(include=['float64', 'int64'])\n",
    "\n",
    "corr = numerical_cols.corrwith(dataset.is_fraud)[:-1]\n",
    "corr"
   ]
  },
  {
   "cell_type": "markdown",
   "id": "cf262cb8-4a49-47da-91d7-6d67694536db",
   "metadata": {
    "tags": []
   },
   "source": [
    "From our analysis, it is evident that the ‘amt’ feature exhibits a significant correlation with the target variable ‘is_fraud’. This suggests that ‘amt’ could potentially be a strong predictor in our model.\n",
    "\n",
    "Conversely, the numerical location features and the ‘city_pop’ feature demonstrate a weak correlation with ‘is_fraud’. This implies that they may not serve as strong predictors for our model."
   ]
  },
  {
   "cell_type": "code",
   "execution_count": 12,
   "id": "cd17f436-2f21-42e1-8ebd-fae785caa790",
   "metadata": {
    "tags": []
   },
   "outputs": [],
   "source": [
    "selected_numerical_features = ['amt']"
   ]
  },
  {
   "cell_type": "code",
   "execution_count": 13,
   "id": "63eee6bc-7c56-4d40-a698-d75bef29d8f0",
   "metadata": {
    "tags": []
   },
   "outputs": [
    {
     "data": {
      "image/png": "[encoded data removed]",
      "text/plain": [
       "<Figure size 1000x500 with 1 Axes>"
      ]
     },
     "metadata": {},
     "output_type": "display_data"
    }
   ],
   "source": [
    "#Plotting bar plot to visualize Numerical Variables vs R\\u00b2\n",
    "\n",
    "plt.figure(figsize=(10, 5))\n",
    "\n",
    "sns.barplot(x = corr.index, y = corr.values, palette=['paleturquoise', 'orange', 'lawngreen', 'coral', 'plum', 'rosybrown'])\n",
    "plt.title('Numerical Variables vs R\\u00b2')\n",
    "plt.xticks(rotation=45)\n",
    "plt.xlabel('Numerical Varialbes')\n",
    "plt.ylabel('R\\u00b2')\n",
    "plt.show()"
   ]
  },
  {
   "cell_type": "markdown",
   "id": "fb4b4ed3-669b-4db6-96fd-bb9b73704801",
   "metadata": {},
   "source": [
    "## Analysing Categorical Variables"
   ]
  },
  {
   "cell_type": "code",
   "execution_count": 14,
   "id": "dfd61799-51f1-4786-ab73-c8c53ea07cf0",
   "metadata": {
    "tags": []
   },
   "outputs": [
    {
     "data": {
      "text/html": [
       "<div>\n",
       "<style scoped>\n",
       "    .dataframe tbody tr th:only-of-type {\n",
       "        vertical-align: middle;\n",
       "    }\n",
       "\n",
       "    .dataframe tbody tr th {\n",
       "        vertical-align: top;\n",
       "    }\n",
       "\n",
       "    .dataframe thead th {\n",
       "        text-align: right;\n",
       "    }\n",
       "</style>\n",
       "<table border=\"1\" class=\"dataframe\">\n",
       "  <thead>\n",
       "    <tr style=\"text-align: right;\">\n",
       "      <th></th>\n",
       "      <th>trans_date_trans_time</th>\n",
       "      <th>merchant</th>\n",
       "      <th>category</th>\n",
       "      <th>city</th>\n",
       "      <th>state</th>\n",
       "      <th>job</th>\n",
       "      <th>dob</th>\n",
       "      <th>trans_num</th>\n",
       "    </tr>\n",
       "  </thead>\n",
       "  <tbody>\n",
       "    <tr>\n",
       "      <th>count</th>\n",
       "      <td>339607</td>\n",
       "      <td>339607</td>\n",
       "      <td>339607</td>\n",
       "      <td>339607</td>\n",
       "      <td>339607</td>\n",
       "      <td>339607</td>\n",
       "      <td>339607</td>\n",
       "      <td>339607</td>\n",
       "    </tr>\n",
       "    <tr>\n",
       "      <th>unique</th>\n",
       "      <td>338504</td>\n",
       "      <td>693</td>\n",
       "      <td>14</td>\n",
       "      <td>176</td>\n",
       "      <td>13</td>\n",
       "      <td>163</td>\n",
       "      <td>187</td>\n",
       "      <td>339607</td>\n",
       "    </tr>\n",
       "    <tr>\n",
       "      <th>top</th>\n",
       "      <td>2019-12-09 17:30:34</td>\n",
       "      <td>Kilback LLC</td>\n",
       "      <td>gas_transport</td>\n",
       "      <td>Phoenix</td>\n",
       "      <td>CA</td>\n",
       "      <td>Surveyor, minerals</td>\n",
       "      <td>1987-04-23</td>\n",
       "      <td>1f76529f8574734946361c461b024d99</td>\n",
       "    </tr>\n",
       "    <tr>\n",
       "      <th>freq</th>\n",
       "      <td>3</td>\n",
       "      <td>1149</td>\n",
       "      <td>35089</td>\n",
       "      <td>7297</td>\n",
       "      <td>80495</td>\n",
       "      <td>6589</td>\n",
       "      <td>4386</td>\n",
       "      <td>1</td>\n",
       "    </tr>\n",
       "  </tbody>\n",
       "</table>\n",
       "</div>"
      ],
      "text/plain": [
       "       trans_date_trans_time     merchant       category     city   state  \\\n",
       "count                 339607       339607         339607   339607  339607   \n",
       "unique                338504          693             14      176      13   \n",
       "top      2019-12-09 17:30:34  Kilback LLC  gas_transport  Phoenix      CA   \n",
       "freq                       3         1149          35089     7297   80495   \n",
       "\n",
       "                       job         dob                         trans_num  \n",
       "count               339607      339607                            339607  \n",
       "unique                 163         187                            339607  \n",
       "top     Surveyor, minerals  1987-04-23  1f76529f8574734946361c461b024d99  \n",
       "freq                  6589        4386                                 1  "
      ]
     },
     "execution_count": 14,
     "metadata": {},
     "output_type": "execute_result"
    }
   ],
   "source": [
    "#Selecting only the categorical variables\n",
    "cat_variables_df = dataset.select_dtypes('object')\n",
    "cat_variables_description = cat_variables_df.describe()\n",
    "cat_variables_description"
   ]
  },
  {
   "cell_type": "code",
   "execution_count": 15,
   "id": "640248b4-e5f1-444f-8a23-26957d664f78",
   "metadata": {
    "tags": []
   },
   "outputs": [
    {
     "data": {
      "text/plain": [
       "trans_date_trans_time    338504\n",
       "merchant                    693\n",
       "category                     14\n",
       "city                        176\n",
       "state                        13\n",
       "job                         163\n",
       "dob                         187\n",
       "trans_num                339607\n",
       "Name: unique, dtype: object"
      ]
     },
     "execution_count": 15,
     "metadata": {},
     "output_type": "execute_result"
    }
   ],
   "source": [
    "#To observe the number of unique categories in each of the categorical columns\n",
    "cat_variables_description.iloc[1, :]"
   ]
  },
  {
   "cell_type": "markdown",
   "id": "1f2bbd5c-2287-4a1f-9e87-1d9a8fe53e65",
   "metadata": {},
   "source": [
    "### Unique values in each category"
   ]
  },
  {
   "cell_type": "code",
   "execution_count": 16,
   "id": "4888e3f4-a0eb-4ce1-843d-ca2033408ef7",
   "metadata": {
    "tags": []
   },
   "outputs": [
    {
     "data": {
      "text/plain": [
       "trans_date_trans_time    338504\n",
       "merchant                    693\n",
       "category                     14\n",
       "city                        176\n",
       "state                        13\n",
       "job                         163\n",
       "dob                         187\n",
       "trans_num                339607\n",
       "Name: unique, dtype: object"
      ]
     },
     "execution_count": 16,
     "metadata": {},
     "output_type": "execute_result"
    }
   ],
   "source": [
    "#To observe the number of unique categories in each of the categorical columns\n",
    "cat_variables_description.iloc[1, :]"
   ]
  },
  {
   "cell_type": "markdown",
   "id": "8dd57826-19bf-41ab-a384-c66d019dd9f1",
   "metadata": {},
   "source": [
    "#### Performing Chi-Square Test of Independence for Categorical Features\n"
   ]
  },
  {
   "cell_type": "code",
   "execution_count": 17,
   "id": "f85d7a37-f5ec-4979-b7f6-d717902cfc5c",
   "metadata": {
    "tags": []
   },
   "outputs": [],
   "source": [
    "from scipy.stats import chi2_contingency\n",
    "\n",
    "#Selecting the categorical features\n",
    "categorical_cols = dataset.select_dtypes(include = ['object'])\n",
    "\n",
    "chi_results = {}\n",
    "\n",
    "for cat_col in categorical_cols:\n",
    "    contingency_table = pd.crosstab(dataset[cat_col], dataset['is_fraud']) \n",
    "    # pd.crosstab(dataset[cat_col], dataset['is_fraud']) \n",
    "    # This will give a cross table with fraud values as 0 and 1 as cols and like each transaction columns\n",
    "    # values as row for example\n",
    "    \n",
    "    chi2, p, dof, expected = chi2_contingency(contingency_table)\n",
    "    chi_results[cat_col] = {'Chi-Square' : chi2, 'p-value': p}"
   ]
  },
  {
   "cell_type": "code",
   "execution_count": 18,
   "id": "ed764a6b-937e-48ad-8a4e-b61a99ca14be",
   "metadata": {
    "tags": []
   },
   "outputs": [
    {
     "data": {
      "text/html": [
       "<div>\n",
       "<style scoped>\n",
       "    .dataframe tbody tr th:only-of-type {\n",
       "        vertical-align: middle;\n",
       "    }\n",
       "\n",
       "    .dataframe tbody tr th {\n",
       "        vertical-align: top;\n",
       "    }\n",
       "\n",
       "    .dataframe thead th {\n",
       "        text-align: right;\n",
       "    }\n",
       "</style>\n",
       "<table border=\"1\" class=\"dataframe\">\n",
       "  <thead>\n",
       "    <tr style=\"text-align: right;\">\n",
       "      <th></th>\n",
       "      <th>Chi-Square</th>\n",
       "      <th>p-value</th>\n",
       "    </tr>\n",
       "  </thead>\n",
       "  <tbody>\n",
       "    <tr>\n",
       "      <th>city</th>\n",
       "      <td>31570.202091</td>\n",
       "      <td>0.000000e+00</td>\n",
       "    </tr>\n",
       "    <tr>\n",
       "      <th>job</th>\n",
       "      <td>29197.252678</td>\n",
       "      <td>0.000000e+00</td>\n",
       "    </tr>\n",
       "    <tr>\n",
       "      <th>dob</th>\n",
       "      <td>37423.425681</td>\n",
       "      <td>0.000000e+00</td>\n",
       "    </tr>\n",
       "    <tr>\n",
       "      <th>category</th>\n",
       "      <td>1417.008486</td>\n",
       "      <td>3.323232e-295</td>\n",
       "    </tr>\n",
       "    <tr>\n",
       "      <th>merchant</th>\n",
       "      <td>2144.122007</td>\n",
       "      <td>4.166961e-148</td>\n",
       "    </tr>\n",
       "    <tr>\n",
       "      <th>state</th>\n",
       "      <td>130.571299</td>\n",
       "      <td>4.739550e-22</td>\n",
       "    </tr>\n",
       "    <tr>\n",
       "      <th>trans_date_trans_time</th>\n",
       "      <td>338808.743360</td>\n",
       "      <td>3.548401e-01</td>\n",
       "    </tr>\n",
       "    <tr>\n",
       "      <th>trans_num</th>\n",
       "      <td>339607.000000</td>\n",
       "      <td>4.991932e-01</td>\n",
       "    </tr>\n",
       "  </tbody>\n",
       "</table>\n",
       "</div>"
      ],
      "text/plain": [
       "                          Chi-Square        p-value\n",
       "city                    31570.202091   0.000000e+00\n",
       "job                     29197.252678   0.000000e+00\n",
       "dob                     37423.425681   0.000000e+00\n",
       "category                 1417.008486  3.323232e-295\n",
       "merchant                 2144.122007  4.166961e-148\n",
       "state                     130.571299   4.739550e-22\n",
       "trans_date_trans_time  338808.743360   3.548401e-01\n",
       "trans_num              339607.000000   4.991932e-01"
      ]
     },
     "execution_count": 18,
     "metadata": {},
     "output_type": "execute_result"
    }
   ],
   "source": [
    "chi_results_df = pd.DataFrame(chi_results).T\n",
    "\n",
    "#Ordering the rows of dataframe based on p-value.\n",
    "chi_results_df = chi_results_df.sort_values(by = ['p-value'], ascending = True)\n",
    "chi_results_df"
   ]
  },
  {
   "cell_type": "code",
   "execution_count": 19,
   "id": "3a8d19dc-9d60-43a4-b3b7-81c555e7e298",
   "metadata": {
    "tags": []
   },
   "outputs": [
    {
     "name": "stdout",
     "output_type": "stream",
     "text": [
      "The feature 'merchant' is statistically significant and will be kept.\n",
      "The feature 'category' is statistically significant and will be kept.\n",
      "The feature 'city' is statistically significant and will be kept.\n",
      "The feature 'state' is statistically significant and will be kept.\n",
      "The feature 'job' is statistically significant and will be kept.\n",
      "The feature 'dob' is statistically significant and will be kept.\n",
      "The feature 'trans_date_trans_time' is not statistically significant and can be rejected.\n",
      "The feature 'trans_num' is not statistically significant and can be rejected.\n"
     ]
    }
   ],
   "source": [
    "#To get a summary of the categorical features to select and neglect\n",
    "\n",
    "selected_cat_features = []\n",
    "unselected_cat_features = []\n",
    "\n",
    "for feature, result in chi_results.items():\n",
    "    # here feature is the key, result is the value of the dictionary\n",
    "    selected_cat_features.append(feature) if result['p-value'] < 0.05 else unselected_cat_features.append(feature)\n",
    "\n",
    "for feature in selected_cat_features:\n",
    "    print(f\"The feature '{feature}' is statistically significant and will be kept.\")\n",
    "\n",
    "for feature in unselected_cat_features:\n",
    "    print(f\"The feature '{feature}' is not statistically significant and can be rejected.\")"
   ]
  },
  {
   "cell_type": "markdown",
   "id": "f40a8192-b84e-46dc-ad32-0dc26eb3fc68",
   "metadata": {},
   "source": [
    "The features ‘Category’, ‘Merchant’, ‘State’, ‘DOB’, ‘Job’, and ‘City’ have low p-values, which suggests that they are statistically significant and likely have a meaningful impact on the target variable. These features are potentially important predictors in the model.\n",
    "\n",
    "On the other hand, the features ‘trans_date_trans_time’ and ‘trans_num’ have high p-values. This indicates that there is a greater chance that the observed correlation in the data occurred by chance, and these features may not be significant predictors for the target variable.\n",
    "\n",
    "In this analysis, a p-value threshold of 0.05 is used. Features with a p-value less than or equal to 0.05 are considered statistically significant and are retained for further analysis. Features with a p-value greater than 0.05 are not considered statistically significant and are not included in the model."
   ]
  },
  {
   "cell_type": "code",
   "execution_count": 20,
   "id": "cd27482d-0387-4c9c-8749-1413812dac79",
   "metadata": {
    "tags": []
   },
   "outputs": [
    {
     "data": {
      "image/png": "[encoded data removed]",
      "text/plain": [
       "<Figure size 1000x500 with 1 Axes>"
      ]
     },
     "metadata": {},
     "output_type": "display_data"
    }
   ],
   "source": [
    "# Calculate -log(p-values) with a small constant added to avoid return inf for -log(0)\n",
    "minus_log_pvalues = -np.log10(chi_results_df['p-value'] + 1e-350)\n",
    "\n",
    "# Bar plot of -log(p-values)\n",
    "plt.figure(figsize=(10, 5))\n",
    "plt.barh(chi_results_df.index, minus_log_pvalues, color = 'lightcoral')\n",
    "plt.ylabel('-log(p-value)')\n",
    "plt.xlabel('Categorical Variables')\n",
    "plt.title('Negative Log of p-values of Variables')\n",
    "plt.show()\n"
   ]
  },
  {
   "cell_type": "markdown",
   "id": "ae8cade0-31a6-472f-af2f-8f8322a18cc8",
   "metadata": {},
   "source": [
    "# Bar plot of Chi-square values\n"
   ]
  },
  {
   "cell_type": "code",
   "execution_count": 21,
   "id": "909df207-317d-459a-bcbe-4a218a06ebf4",
   "metadata": {
    "tags": []
   },
   "outputs": [
    {
     "data": {
      "image/png": "[encoded data removed]",
      "text/plain": [
       "<Figure size 1000x600 with 1 Axes>"
      ]
     },
     "metadata": {},
     "output_type": "display_data"
    }
   ],
   "source": [
    "plt.figure(figsize=(10, 6))\n",
    "plt.barh(chi_results_df.index, chi_results_df['Chi-Square'], color = 'lightskyblue')\n",
    "plt.ylabel('Categorical Features')\n",
    "plt.title('Chi-squared values of Categorical Features')\n",
    "\n",
    "plt.show()"
   ]
  },
  {
   "cell_type": "markdown",
   "id": "f537f8b9-e548-4c01-9029-a247dcfd0766",
   "metadata": {},
   "source": [
    "# Data Cleaning"
   ]
  },
  {
   "cell_type": "markdown",
   "id": "43f22c2f-d6db-4b2d-9cb5-a8f62a541614",
   "metadata": {},
   "source": [
    "### Filtering out unnecessary features based on above observations\n"
   ]
  },
  {
   "cell_type": "code",
   "execution_count": 22,
   "id": "14c288ca-644f-47c1-8125-cb24a6741b0c",
   "metadata": {
    "tags": []
   },
   "outputs": [
    {
     "data": {
      "text/html": [
       "<div>\n",
       "<style scoped>\n",
       "    .dataframe tbody tr th:only-of-type {\n",
       "        vertical-align: middle;\n",
       "    }\n",
       "\n",
       "    .dataframe tbody tr th {\n",
       "        vertical-align: top;\n",
       "    }\n",
       "\n",
       "    .dataframe thead th {\n",
       "        text-align: right;\n",
       "    }\n",
       "</style>\n",
       "<table border=\"1\" class=\"dataframe\">\n",
       "  <thead>\n",
       "    <tr style=\"text-align: right;\">\n",
       "      <th></th>\n",
       "      <th>merchant</th>\n",
       "      <th>category</th>\n",
       "      <th>amt</th>\n",
       "      <th>state</th>\n",
       "      <th>city</th>\n",
       "      <th>job</th>\n",
       "      <th>dob</th>\n",
       "      <th>is_fraud</th>\n",
       "    </tr>\n",
       "  </thead>\n",
       "  <tbody>\n",
       "    <tr>\n",
       "      <th>0</th>\n",
       "      <td>Heller, Gutmann and Zieme</td>\n",
       "      <td>grocery_pos</td>\n",
       "      <td>107.23</td>\n",
       "      <td>WA</td>\n",
       "      <td>Orient</td>\n",
       "      <td>Special educational needs teacher</td>\n",
       "      <td>1978-06-21</td>\n",
       "      <td>0</td>\n",
       "    </tr>\n",
       "    <tr>\n",
       "      <th>1</th>\n",
       "      <td>Lind-Buckridge</td>\n",
       "      <td>entertainment</td>\n",
       "      <td>220.11</td>\n",
       "      <td>ID</td>\n",
       "      <td>Malad City</td>\n",
       "      <td>Nature conservation officer</td>\n",
       "      <td>1962-01-19</td>\n",
       "      <td>0</td>\n",
       "    </tr>\n",
       "  </tbody>\n",
       "</table>\n",
       "</div>"
      ],
      "text/plain": [
       "                    merchant       category     amt state        city  \\\n",
       "0  Heller, Gutmann and Zieme    grocery_pos  107.23    WA      Orient   \n",
       "1             Lind-Buckridge  entertainment  220.11    ID  Malad City   \n",
       "\n",
       "                                 job         dob  is_fraud  \n",
       "0  Special educational needs teacher  1978-06-21         0  \n",
       "1        Nature conservation officer  1962-01-19         0  "
      ]
     },
     "execution_count": 22,
     "metadata": {},
     "output_type": "execute_result"
    }
   ],
   "source": [
    "#Selected relevant features we choose to keep in our dataset\n",
    "relevant_features = ['merchant', 'category', 'amt', 'state', 'city', 'job', 'dob', 'is_fraud'] \n",
    "\n",
    "filtered_dataset = dataset[relevant_features]\n",
    "filtered_dataset.head(n=2)"
   ]
  },
  {
   "cell_type": "code",
   "execution_count": 23,
   "id": "92467224-7d10-47a1-88ec-78cf554e4d12",
   "metadata": {
    "tags": []
   },
   "outputs": [
    {
     "data": {
      "text/plain": [
       "(339607, 8)"
      ]
     },
     "execution_count": 23,
     "metadata": {},
     "output_type": "execute_result"
    }
   ],
   "source": [
    "filtered_dataset.shape"
   ]
  },
  {
   "cell_type": "markdown",
   "id": "65bfb611-3094-44fa-95ad-d475e90f1cab",
   "metadata": {},
   "source": [
    "### Checking for duplicate and missing values"
   ]
  },
  {
   "cell_type": "code",
   "execution_count": 24,
   "id": "a5a7cd71-6389-4f42-b92a-12bab257095a",
   "metadata": {
    "tags": []
   },
   "outputs": [
    {
     "data": {
      "text/plain": [
       "165"
      ]
     },
     "execution_count": 24,
     "metadata": {},
     "output_type": "execute_result"
    }
   ],
   "source": [
    "#Checking for duplicated samples\n",
    "\n",
    "filtered_dataset.duplicated().sum()"
   ]
  },
  {
   "cell_type": "markdown",
   "id": "bb081beb-dbe9-4d4d-b578-5e7af86c785f",
   "metadata": {},
   "source": [
    "After filtering out the irrelevant features our dataset reflects 165 duplicated samples"
   ]
  },
  {
   "cell_type": "code",
   "execution_count": 25,
   "id": "73cb3672-7a32-4a4a-880c-c8408faf9ac0",
   "metadata": {
    "tags": []
   },
   "outputs": [],
   "source": [
    "#The duplicated records have been removed\n",
    "\n",
    "filtered_dataset.drop_duplicates(inplace = True)"
   ]
  },
  {
   "cell_type": "code",
   "execution_count": 26,
   "id": "6bd5b975-962b-4218-b20a-a743d68f52c7",
   "metadata": {
    "tags": []
   },
   "outputs": [
    {
     "data": {
      "text/plain": [
       "merchant    0\n",
       "category    0\n",
       "amt         0\n",
       "state       0\n",
       "city        0\n",
       "job         0\n",
       "dob         0\n",
       "is_fraud    0\n",
       "dtype: int64"
      ]
     },
     "execution_count": 26,
     "metadata": {},
     "output_type": "execute_result"
    }
   ],
   "source": [
    "#checking for missing values\n",
    "\n",
    "filtered_dataset.isna().sum()"
   ]
  },
  {
   "cell_type": "markdown",
   "id": "b9307dc1-93ed-4b0d-b671-53a6dbdd8ea1",
   "metadata": {},
   "source": [
    "### seeing the summary of the filtered dataset"
   ]
  },
  {
   "cell_type": "markdown",
   "id": "1cd8472c-8757-4b3b-b867-49884e7353df",
   "metadata": {},
   "source": [
    "Dataset is free from missing values"
   ]
  },
  {
   "cell_type": "code",
   "execution_count": 27,
   "id": "b7424e7a-b7d9-4ac2-92c3-442471ac5056",
   "metadata": {
    "tags": []
   },
   "outputs": [
    {
     "name": "stdout",
     "output_type": "stream",
     "text": [
      "                 amt       is_fraud\n",
      "count  339442.000000  339442.000000\n",
      "mean       70.598118       0.005250\n",
      "std       161.709672       0.072265\n",
      "min         1.000000       0.000000\n",
      "25%         9.610000       0.000000\n",
      "50%        46.480000       0.000000\n",
      "75%        83.360000       0.000000\n",
      "max     28948.900000       1.000000\n"
     ]
    }
   ],
   "source": [
    "# to get a descriptive statistics of the filtered numerical cols\n",
    "\n",
    "print(filtered_dataset.describe())"
   ]
  },
  {
   "cell_type": "code",
   "execution_count": 28,
   "id": "cfd32b44-02e6-40b8-a26b-630d1182037c",
   "metadata": {
    "tags": []
   },
   "outputs": [
    {
     "name": "stdout",
     "output_type": "stream",
     "text": [
      "           merchant       category   state     city                 job  \\\n",
      "count        339442         339442  339442   339442              339442   \n",
      "unique          693             14      13      176                 163   \n",
      "top     Kilback LLC  gas_transport      CA  Phoenix  Surveyor, minerals   \n",
      "freq           1148          35072   80465     7293                6583   \n",
      "\n",
      "               dob  \n",
      "count       339442  \n",
      "unique         187  \n",
      "top     1987-10-28  \n",
      "freq          4380  \n"
     ]
    }
   ],
   "source": [
    "# to get a descriptive statistics of the filtered categorical cols\n",
    "\n",
    "print(filtered_dataset.select_dtypes('object').describe())"
   ]
  },
  {
   "cell_type": "markdown",
   "id": "b6dd3c04-11a0-4ac4-abc9-45507339129c",
   "metadata": {},
   "source": [
    "# Feature Engineering\n",
    "\n",
    "Feature engineering is the process of transforming raw data into features that better represent the underlying problem to the predictive models, resulting in improved model accuracy on unseen data. \n",
    "\n",
    "\n",
    "## Changing Column Names\n",
    "\n",
    "This is more of a data cleaning step than feature engineering, but it’s still important. Having clear and descriptive column names can make the dataset easier to understand and work with. For example, changing the column name of 'amt' to 'amount'.\n",
    "\n",
    "## Encoding Categorical Variables\n",
    "\n",
    "Many machine learning models require numerical input and cannot work with categorical data directly. Encoding categorical variables is a way to transform categorical data into a format that can be used by these models.\n",
    "\n",
    "## Scaling Continuous Variables\n",
    "\n",
    "Scaling is a technique used to standardize the range of independent variables or features of data. In data processing, it is also known as data normalization and is generally performed during the data preprocessing step. Scaling ensures that all data in a dataset falls in the same range, thus preventing any one variable from dominating others due to its scale. "
   ]
  },
  {
   "cell_type": "markdown",
   "id": "8d5ec678-46dd-4945-885a-c7403d7769e2",
   "metadata": {
    "tags": []
   },
   "source": [
    "### Changing Column Names"
   ]
  },
  {
   "cell_type": "markdown",
   "id": "f22f452f-cf0c-463d-a581-dbf94ddfa1fb",
   "metadata": {},
   "source": [
    "Here we are changing the column name amt -> amount for clarity"
   ]
  },
  {
   "cell_type": "code",
   "execution_count": 29,
   "id": "41960f07-aed6-4892-abea-d4bde724c1c8",
   "metadata": {
    "tags": []
   },
   "outputs": [],
   "source": [
    "#To rename amt -> amount\n",
    "\n",
    "filtered_dataset.rename(columns= {'amt': 'amount'}, inplace = True)"
   ]
  },
  {
   "cell_type": "markdown",
   "id": "3b28b8d9-382d-4c39-b950-ebeaaa21ea4b",
   "metadata": {},
   "source": [
    "### Encoding Categorical Variables"
   ]
  },
  {
   "cell_type": "markdown",
   "id": "0705b5c7-df48-41bc-bbba-cc3448e29856",
   "metadata": {},
   "source": [
    "#### 1. Converting DOB to Age\n",
    "\n",
    "We plan on converting the 'dob' column values to age using the find and replace method. Currently, the 'dob' column is treated as a categorical variable, containing approximately 187 unique values. Encoding such a variable could lead to a high-dimensional dataset, which might complicate the modeling process. \n",
    "\n",
    "Instead, a more efficient approach is to convert 'dob' into a numerical variable by transforming these dates of birth into ages. This not only reduces the complexity of the data cleaning process but also may improve the performance of our machine learning model by providing a more meaningful representation of the data.\n"
   ]
  },
  {
   "cell_type": "code",
   "execution_count": 30,
   "id": "d02518c3-9fb8-41cc-9fe1-80c0fbc220e0",
   "metadata": {
    "tags": []
   },
   "outputs": [],
   "source": [
    "from datetime import datetime\n",
    "\n",
    "# Convert 'dob' to datetime\n",
    "filtered_dataset['dob'] = pd.to_datetime(filtered_dataset['dob'])\n",
    "\n",
    "# Calculate 'age' from 'dob'\n",
    "current_year = datetime.now().year\n",
    "filtered_dataset['age'] = current_year - filtered_dataset['dob'].dt.year"
   ]
  },
  {
   "cell_type": "code",
   "execution_count": 31,
   "id": "e83ce86c-96b1-4cfb-84be-66d6750ccf55",
   "metadata": {
    "tags": []
   },
   "outputs": [],
   "source": [
    "#Removing the dob column after converting it to age\n",
    "filtered_dataset.drop(['dob'], axis=1, inplace=True)"
   ]
  },
  {
   "cell_type": "markdown",
   "id": "9dafb018-0a5e-4f04-bbef-c7b05e899d9f",
   "metadata": {
    "tags": []
   },
   "source": [
    "#### 2. Binary Encoding\n",
    "\n",
    "We decided to use binary encoding to encode the categorical features: merchant, category, state, city, and job. \n",
    "\n",
    "We considered different encoding mechanisms such as label encoding and one-hot encoding. However, we decided to go with binary encoding due to the following reasons:\n",
    "\n",
    "- Our categorical variables have many unique values. For example, 'merchant' has 693 unique values, 'category' has 14, 'state' has 13, 'city' has 176, and 'job' has 163. Therefore, using one-hot encoding would massively increase the number of columns and could significantly affect the performance of the model.\n",
    "\n",
    "- We chose not to go with label encoding. While label encoding is straightforward, it has the disadvantage that the numeric values can be \"misinterpreted\" by the algorithms. It is not always suitable to directly represent each category with numerical values as it might give the model a wrong impression.\n",
    "\n",
    "As a solution, we decided to go with binary encoding. Binary encoding is a combination of both label encoding and one-hot encoding. It maintains the dimensionality and reduces the number of columns to 37, thereby reducing the ordinal relationship in the column as well.\n"
   ]
  },
  {
   "cell_type": "code",
   "execution_count": 32,
   "id": "7e0c8625-5115-4a09-9a43-b3f86fe082b0",
   "metadata": {
    "tags": []
   },
   "outputs": [],
   "source": [
    "import category_encoders as ce\n",
    "\n",
    "# Get a list of relevant cols to be encoded.\n",
    "cat_cols = list(filtered_dataset.select_dtypes('object').columns)\n",
    "\n",
    "\n",
    "# The BinaryEncoder will encode the categorical variables into binary vectors. \n",
    "# The cols parameter specifies which columns in the DataFrame should be encoded\n",
    "encoder = ce.BinaryEncoder(cols= cat_cols)\n",
    "\n",
    "# The fit_transform method first fits the encoder to the data and then transforms the data into binary vectors\n",
    "data = encoder.fit_transform(filtered_dataset)"
   ]
  },
  {
   "cell_type": "code",
   "execution_count": 33,
   "id": "1d2d4448-611a-4157-933f-6eee4b9f4f74",
   "metadata": {
    "scrolled": true,
    "tags": []
   },
   "outputs": [
    {
     "data": {
      "text/plain": [
       "merchant_0      int64\n",
       "merchant_1      int64\n",
       "merchant_2      int64\n",
       "merchant_3      int64\n",
       "merchant_4      int64\n",
       "merchant_5      int64\n",
       "merchant_6      int64\n",
       "merchant_7      int64\n",
       "merchant_8      int64\n",
       "merchant_9      int64\n",
       "category_0      int64\n",
       "category_1      int64\n",
       "category_2      int64\n",
       "category_3      int64\n",
       "amount        float64\n",
       "state_0         int64\n",
       "state_1         int64\n",
       "state_2         int64\n",
       "state_3         int64\n",
       "city_0          int64\n",
       "city_1          int64\n",
       "city_2          int64\n",
       "city_3          int64\n",
       "city_4          int64\n",
       "city_5          int64\n",
       "city_6          int64\n",
       "city_7          int64\n",
       "job_0           int64\n",
       "job_1           int64\n",
       "job_2           int64\n",
       "job_3           int64\n",
       "job_4           int64\n",
       "job_5           int64\n",
       "job_6           int64\n",
       "job_7           int64\n",
       "is_fraud        int64\n",
       "age             int32\n",
       "dtype: object"
      ]
     },
     "execution_count": 33,
     "metadata": {},
     "output_type": "execute_result"
    }
   ],
   "source": [
    "data.dtypes"
   ]
  },
  {
   "cell_type": "code",
   "execution_count": 34,
   "id": "f5a84c18-0454-4c11-890b-6edcf1cf2d08",
   "metadata": {
    "tags": []
   },
   "outputs": [
    {
     "data": {
      "text/html": [
       "<div>\n",
       "<style scoped>\n",
       "    .dataframe tbody tr th:only-of-type {\n",
       "        vertical-align: middle;\n",
       "    }\n",
       "\n",
       "    .dataframe tbody tr th {\n",
       "        vertical-align: top;\n",
       "    }\n",
       "\n",
       "    .dataframe thead th {\n",
       "        text-align: right;\n",
       "    }\n",
       "</style>\n",
       "<table border=\"1\" class=\"dataframe\">\n",
       "  <thead>\n",
       "    <tr style=\"text-align: right;\">\n",
       "      <th></th>\n",
       "      <th>merchant_0</th>\n",
       "      <th>merchant_1</th>\n",
       "      <th>merchant_2</th>\n",
       "      <th>merchant_3</th>\n",
       "      <th>merchant_4</th>\n",
       "      <th>merchant_5</th>\n",
       "      <th>merchant_6</th>\n",
       "      <th>merchant_7</th>\n",
       "      <th>merchant_8</th>\n",
       "      <th>merchant_9</th>\n",
       "      <th>...</th>\n",
       "      <th>job_0</th>\n",
       "      <th>job_1</th>\n",
       "      <th>job_2</th>\n",
       "      <th>job_3</th>\n",
       "      <th>job_4</th>\n",
       "      <th>job_5</th>\n",
       "      <th>job_6</th>\n",
       "      <th>job_7</th>\n",
       "      <th>is_fraud</th>\n",
       "      <th>age</th>\n",
       "    </tr>\n",
       "  </thead>\n",
       "  <tbody>\n",
       "    <tr>\n",
       "      <th>0</th>\n",
       "      <td>0</td>\n",
       "      <td>0</td>\n",
       "      <td>0</td>\n",
       "      <td>0</td>\n",
       "      <td>0</td>\n",
       "      <td>0</td>\n",
       "      <td>0</td>\n",
       "      <td>0</td>\n",
       "      <td>0</td>\n",
       "      <td>1</td>\n",
       "      <td>...</td>\n",
       "      <td>0</td>\n",
       "      <td>0</td>\n",
       "      <td>0</td>\n",
       "      <td>0</td>\n",
       "      <td>0</td>\n",
       "      <td>0</td>\n",
       "      <td>0</td>\n",
       "      <td>1</td>\n",
       "      <td>0</td>\n",
       "      <td>46</td>\n",
       "    </tr>\n",
       "    <tr>\n",
       "      <th>1</th>\n",
       "      <td>0</td>\n",
       "      <td>0</td>\n",
       "      <td>0</td>\n",
       "      <td>0</td>\n",
       "      <td>0</td>\n",
       "      <td>0</td>\n",
       "      <td>0</td>\n",
       "      <td>0</td>\n",
       "      <td>1</td>\n",
       "      <td>0</td>\n",
       "      <td>...</td>\n",
       "      <td>0</td>\n",
       "      <td>0</td>\n",
       "      <td>0</td>\n",
       "      <td>0</td>\n",
       "      <td>0</td>\n",
       "      <td>0</td>\n",
       "      <td>1</td>\n",
       "      <td>0</td>\n",
       "      <td>0</td>\n",
       "      <td>62</td>\n",
       "    </tr>\n",
       "    <tr>\n",
       "      <th>2</th>\n",
       "      <td>0</td>\n",
       "      <td>0</td>\n",
       "      <td>0</td>\n",
       "      <td>0</td>\n",
       "      <td>0</td>\n",
       "      <td>0</td>\n",
       "      <td>0</td>\n",
       "      <td>0</td>\n",
       "      <td>1</td>\n",
       "      <td>1</td>\n",
       "      <td>...</td>\n",
       "      <td>0</td>\n",
       "      <td>0</td>\n",
       "      <td>0</td>\n",
       "      <td>0</td>\n",
       "      <td>0</td>\n",
       "      <td>0</td>\n",
       "      <td>1</td>\n",
       "      <td>1</td>\n",
       "      <td>0</td>\n",
       "      <td>79</td>\n",
       "    </tr>\n",
       "    <tr>\n",
       "      <th>3</th>\n",
       "      <td>0</td>\n",
       "      <td>0</td>\n",
       "      <td>0</td>\n",
       "      <td>0</td>\n",
       "      <td>0</td>\n",
       "      <td>0</td>\n",
       "      <td>0</td>\n",
       "      <td>1</td>\n",
       "      <td>0</td>\n",
       "      <td>0</td>\n",
       "      <td>...</td>\n",
       "      <td>0</td>\n",
       "      <td>0</td>\n",
       "      <td>0</td>\n",
       "      <td>0</td>\n",
       "      <td>0</td>\n",
       "      <td>1</td>\n",
       "      <td>0</td>\n",
       "      <td>0</td>\n",
       "      <td>0</td>\n",
       "      <td>57</td>\n",
       "    </tr>\n",
       "    <tr>\n",
       "      <th>4</th>\n",
       "      <td>0</td>\n",
       "      <td>0</td>\n",
       "      <td>0</td>\n",
       "      <td>0</td>\n",
       "      <td>0</td>\n",
       "      <td>0</td>\n",
       "      <td>0</td>\n",
       "      <td>1</td>\n",
       "      <td>0</td>\n",
       "      <td>1</td>\n",
       "      <td>...</td>\n",
       "      <td>0</td>\n",
       "      <td>0</td>\n",
       "      <td>0</td>\n",
       "      <td>0</td>\n",
       "      <td>0</td>\n",
       "      <td>1</td>\n",
       "      <td>0</td>\n",
       "      <td>1</td>\n",
       "      <td>0</td>\n",
       "      <td>57</td>\n",
       "    </tr>\n",
       "  </tbody>\n",
       "</table>\n",
       "<p>5 rows × 37 columns</p>\n",
       "</div>"
      ],
      "text/plain": [
       "   merchant_0  merchant_1  merchant_2  merchant_3  merchant_4  merchant_5  \\\n",
       "0           0           0           0           0           0           0   \n",
       "1           0           0           0           0           0           0   \n",
       "2           0           0           0           0           0           0   \n",
       "3           0           0           0           0           0           0   \n",
       "4           0           0           0           0           0           0   \n",
       "\n",
       "   merchant_6  merchant_7  merchant_8  merchant_9  ...  job_0  job_1  job_2  \\\n",
       "0           0           0           0           1  ...      0      0      0   \n",
       "1           0           0           1           0  ...      0      0      0   \n",
       "2           0           0           1           1  ...      0      0      0   \n",
       "3           0           1           0           0  ...      0      0      0   \n",
       "4           0           1           0           1  ...      0      0      0   \n",
       "\n",
       "   job_3  job_4  job_5  job_6  job_7  is_fraud  age  \n",
       "0      0      0      0      0      1         0   46  \n",
       "1      0      0      0      1      0         0   62  \n",
       "2      0      0      0      1      1         0   79  \n",
       "3      0      0      1      0      0         0   57  \n",
       "4      0      0      1      0      1         0   57  \n",
       "\n",
       "[5 rows x 37 columns]"
      ]
     },
     "execution_count": 34,
     "metadata": {},
     "output_type": "execute_result"
    }
   ],
   "source": [
    "data.head()"
   ]
  },
  {
   "attachments": {
    "14ab8e1a-59b7-422f-bd2b-e70b1b0ef392.png": {
     "image/png": "[encoded data removed]"
    }
   },
   "cell_type": "markdown",
   "id": "518b678d-bf82-4dc0-bbf0-e07fb24c543f",
   "metadata": {},
   "source": [
    "### Scaling Numerical Variables\n",
    "\n",
    "In this section, we handle feature normalization to scale the numerical columns ‘amount’ and ‘age’. These two features have very different scales, which can potentially impact the performance of some machine learning algorithms.\n",
    "\n",
    "The dataset we’re working with doesn’t follow a bell curve (or Gaussian distribution), which is why we’re choosing to use Min-Max scaling for these numerical features. Min-Max scaling is a technique that transforms the features to fall within a specified range, typically between 0 and 1. This ensures that all features contribute approximately proportionately to the final prediction.\n",
    "\n",
    "![image.png](attachment:14ab8e1a-59b7-422f-bd2b-e70b1b0ef392.png)\n",
    "\n",
    "However, Min-Max scaling is sensitive to outliers, which are uncommon values that occur in a dataset. Outliers can skew the distribution of the data and potentially affect the performance of a machine learning model. Therefore, before we apply Min-Max scaling, we’ll first remove the outliers from the dataset.\n"
   ]
  },
  {
   "cell_type": "code",
   "execution_count": 35,
   "id": "c26fa3d1-6f02-41d8-935b-65990fd4ce19",
   "metadata": {
    "tags": []
   },
   "outputs": [],
   "source": [
    "# Calculate the 25th, 50th, and 75th percentiles of the 'amount' column\n",
    "quantiles_amount = data.amount.quantile([.25, .5, .75])\n",
    "\n",
    "# Store the 25th percentile in Q1_amount\n",
    "Q1_amount = quantiles_amount[.25]\n",
    "\n",
    "# Store the 75th percentile in Q3_amount\n",
    "Q3_amount = quantiles_amount[.75]\n",
    "\n",
    "# Calculate the Interquartile Range (IQR) for 'amount'\n",
    "IQR_amount = Q3_amount - Q1_amount\n",
    "\n",
    "# Calculate the lower bound for detecting outliers in 'amount' as 1.5*IQR below Q1_amount\n",
    "lower_range_amount = Q1_amount - (1.5 * IQR_amount)\n",
    "\n",
    "# Calculate the upper bound for detecting outliers in 'amount' as 1.5*IQR above Q3_amount\n",
    "upper_range_amount = Q3_amount + (1.5 * IQR_amount)\n",
    "\n",
    "# Calculate the 25th, 50th, and 75th percentiles of the 'age' column\n",
    "quantiles_age = data.age.quantile([.25, .5, .75])\n",
    "\n",
    "# Store the 25th percentile in Q1_age\n",
    "Q1_age = quantiles_age[.25]\n",
    "\n",
    "# Store the 75th percentile in Q3_age\n",
    "Q3_age = quantiles_age[.75]\n",
    "\n",
    "# Calculate the Interquartile Range (IQR) for 'age'\n",
    "IQR_age = Q3_age - Q1_age\n",
    "\n",
    "# Calculate the lower bound for detecting outliers in 'age' as 1.5*IQR below Q1_age\n",
    "lower_range_age = Q1_age - (1.5 * IQR_age)\n",
    "\n",
    "# Calculate the upper bound for detecting outliers in 'age' as 1.5*IQR above Q3_age\n",
    "upper_range_age = Q3_age + (1.5 * IQR_age)\n",
    "\n",
    "# Filter the data to include only rows where 'amount' and 'age' are within the lower and upper bounds\n",
    "dataset_without_outliers = data[(data.amount >= lower_range_amount) & (data.amount <= upper_range_amount) & (data.age >= lower_range_age) & (data.age <= upper_range_age)]\n",
    "\n",
    "# Reset the index of the DataFrame and drop the old index column\n",
    "dataset_without_outliers.reset_index(inplace = True)\n",
    "dataset_without_outliers.drop('index', axis=1, inplace=True)\n"
   ]
  },
  {
   "cell_type": "code",
   "execution_count": 36,
   "id": "dca122be-efee-44c6-b361-e1b56b1dae99",
   "metadata": {
    "tags": []
   },
   "outputs": [],
   "source": [
    "# Replace the original 'data' DataFrame with the 'dataset_without_outliers' DataFrame\n",
    "# This means that all future operations that use the 'data' DataFrame will be using the data without outliers\n",
    "\n",
    "data = dataset_without_outliers"
   ]
  },
  {
   "cell_type": "markdown",
   "id": "4a5ae6bd-f833-4b8c-9775-d71eb34e9ac8",
   "metadata": {},
   "source": [
    "Here we choose to go with min-max algorithm as our dataset doenst really follow a normal distribution and also we have removed the outliers in the dataset since it is slightly bit "
   ]
  },
  {
   "cell_type": "code",
   "execution_count": 37,
   "id": "779f18d1-832c-4347-a9a5-3eab146a7405",
   "metadata": {
    "tags": []
   },
   "outputs": [],
   "source": [
    "from sklearn.preprocessing import MinMaxScaler\n",
    "\n",
    "# Define the columns you want to scale\n",
    "columns_to_scale = ['amount', 'age']\n",
    "\n",
    "# Initialize the MinMaxScaler\n",
    "scaler = MinMaxScaler()\n",
    "\n",
    "# Fit the scaler on the selected columns from the DataFrame and transform the data\n",
    "scaled_data = scaler.fit_transform(data[columns_to_scale])\n",
    "\n",
    "# Replace the original columns with the scaled ones\n",
    "data[columns_to_scale] = scaled_data"
   ]
  },
  {
   "cell_type": "code",
   "execution_count": 38,
   "id": "ba13c2c0-683f-4aca-9a31-33797f6d8a92",
   "metadata": {
    "tags": []
   },
   "outputs": [
    {
     "data": {
      "text/html": [
       "<div>\n",
       "<style scoped>\n",
       "    .dataframe tbody tr th:only-of-type {\n",
       "        vertical-align: middle;\n",
       "    }\n",
       "\n",
       "    .dataframe tbody tr th {\n",
       "        vertical-align: top;\n",
       "    }\n",
       "\n",
       "    .dataframe thead th {\n",
       "        text-align: right;\n",
       "    }\n",
       "</style>\n",
       "<table border=\"1\" class=\"dataframe\">\n",
       "  <thead>\n",
       "    <tr style=\"text-align: right;\">\n",
       "      <th></th>\n",
       "      <th>merchant_0</th>\n",
       "      <th>merchant_1</th>\n",
       "      <th>merchant_2</th>\n",
       "      <th>merchant_3</th>\n",
       "      <th>merchant_4</th>\n",
       "      <th>merchant_5</th>\n",
       "      <th>merchant_6</th>\n",
       "      <th>merchant_7</th>\n",
       "      <th>merchant_8</th>\n",
       "      <th>merchant_9</th>\n",
       "      <th>...</th>\n",
       "      <th>job_0</th>\n",
       "      <th>job_1</th>\n",
       "      <th>job_2</th>\n",
       "      <th>job_3</th>\n",
       "      <th>job_4</th>\n",
       "      <th>job_5</th>\n",
       "      <th>job_6</th>\n",
       "      <th>job_7</th>\n",
       "      <th>is_fraud</th>\n",
       "      <th>age</th>\n",
       "    </tr>\n",
       "  </thead>\n",
       "  <tbody>\n",
       "    <tr>\n",
       "      <th>0</th>\n",
       "      <td>0</td>\n",
       "      <td>0</td>\n",
       "      <td>0</td>\n",
       "      <td>0</td>\n",
       "      <td>0</td>\n",
       "      <td>0</td>\n",
       "      <td>0</td>\n",
       "      <td>0</td>\n",
       "      <td>0</td>\n",
       "      <td>1</td>\n",
       "      <td>...</td>\n",
       "      <td>0</td>\n",
       "      <td>0</td>\n",
       "      <td>0</td>\n",
       "      <td>0</td>\n",
       "      <td>0</td>\n",
       "      <td>0</td>\n",
       "      <td>0</td>\n",
       "      <td>1</td>\n",
       "      <td>0</td>\n",
       "      <td>0.310811</td>\n",
       "    </tr>\n",
       "    <tr>\n",
       "      <th>1</th>\n",
       "      <td>0</td>\n",
       "      <td>0</td>\n",
       "      <td>0</td>\n",
       "      <td>0</td>\n",
       "      <td>0</td>\n",
       "      <td>0</td>\n",
       "      <td>0</td>\n",
       "      <td>0</td>\n",
       "      <td>1</td>\n",
       "      <td>1</td>\n",
       "      <td>...</td>\n",
       "      <td>0</td>\n",
       "      <td>0</td>\n",
       "      <td>0</td>\n",
       "      <td>0</td>\n",
       "      <td>0</td>\n",
       "      <td>0</td>\n",
       "      <td>1</td>\n",
       "      <td>1</td>\n",
       "      <td>0</td>\n",
       "      <td>0.756757</td>\n",
       "    </tr>\n",
       "    <tr>\n",
       "      <th>2</th>\n",
       "      <td>0</td>\n",
       "      <td>0</td>\n",
       "      <td>0</td>\n",
       "      <td>0</td>\n",
       "      <td>0</td>\n",
       "      <td>0</td>\n",
       "      <td>0</td>\n",
       "      <td>1</td>\n",
       "      <td>0</td>\n",
       "      <td>0</td>\n",
       "      <td>...</td>\n",
       "      <td>0</td>\n",
       "      <td>0</td>\n",
       "      <td>0</td>\n",
       "      <td>0</td>\n",
       "      <td>0</td>\n",
       "      <td>1</td>\n",
       "      <td>0</td>\n",
       "      <td>0</td>\n",
       "      <td>0</td>\n",
       "      <td>0.459459</td>\n",
       "    </tr>\n",
       "    <tr>\n",
       "      <th>3</th>\n",
       "      <td>0</td>\n",
       "      <td>0</td>\n",
       "      <td>0</td>\n",
       "      <td>0</td>\n",
       "      <td>0</td>\n",
       "      <td>0</td>\n",
       "      <td>0</td>\n",
       "      <td>1</td>\n",
       "      <td>0</td>\n",
       "      <td>1</td>\n",
       "      <td>...</td>\n",
       "      <td>0</td>\n",
       "      <td>0</td>\n",
       "      <td>0</td>\n",
       "      <td>0</td>\n",
       "      <td>0</td>\n",
       "      <td>1</td>\n",
       "      <td>0</td>\n",
       "      <td>1</td>\n",
       "      <td>0</td>\n",
       "      <td>0.459459</td>\n",
       "    </tr>\n",
       "    <tr>\n",
       "      <th>4</th>\n",
       "      <td>0</td>\n",
       "      <td>0</td>\n",
       "      <td>0</td>\n",
       "      <td>0</td>\n",
       "      <td>0</td>\n",
       "      <td>0</td>\n",
       "      <td>0</td>\n",
       "      <td>1</td>\n",
       "      <td>1</td>\n",
       "      <td>0</td>\n",
       "      <td>...</td>\n",
       "      <td>0</td>\n",
       "      <td>0</td>\n",
       "      <td>0</td>\n",
       "      <td>0</td>\n",
       "      <td>0</td>\n",
       "      <td>1</td>\n",
       "      <td>1</td>\n",
       "      <td>0</td>\n",
       "      <td>0</td>\n",
       "      <td>0.472973</td>\n",
       "    </tr>\n",
       "  </tbody>\n",
       "</table>\n",
       "<p>5 rows × 37 columns</p>\n",
       "</div>"
      ],
      "text/plain": [
       "   merchant_0  merchant_1  merchant_2  merchant_3  merchant_4  merchant_5  \\\n",
       "0           0           0           0           0           0           0   \n",
       "1           0           0           0           0           0           0   \n",
       "2           0           0           0           0           0           0   \n",
       "3           0           0           0           0           0           0   \n",
       "4           0           0           0           0           0           0   \n",
       "\n",
       "   merchant_6  merchant_7  merchant_8  merchant_9  ...  job_0  job_1  job_2  \\\n",
       "0           0           0           0           1  ...      0      0      0   \n",
       "1           0           0           1           1  ...      0      0      0   \n",
       "2           0           1           0           0  ...      0      0      0   \n",
       "3           0           1           0           1  ...      0      0      0   \n",
       "4           0           1           1           0  ...      0      0      0   \n",
       "\n",
       "   job_3  job_4  job_5  job_6  job_7  is_fraud       age  \n",
       "0      0      0      0      0      1         0  0.310811  \n",
       "1      0      0      0      1      1         0  0.756757  \n",
       "2      0      0      1      0      0         0  0.459459  \n",
       "3      0      0      1      0      1         0  0.459459  \n",
       "4      0      0      1      1      0         0  0.472973  \n",
       "\n",
       "[5 rows x 37 columns]"
      ]
     },
     "execution_count": 38,
     "metadata": {},
     "output_type": "execute_result"
    }
   ],
   "source": [
    "data.head(5)"
   ]
  },
  {
   "cell_type": "markdown",
   "id": "3979ac4e-72ab-4a13-8ee1-2209a02b8e0a",
   "metadata": {},
   "source": [
    "## Handling Class Imbalance"
   ]
  },
  {
   "cell_type": "code",
   "execution_count": 39,
   "id": "9a523b22-caed-411e-835b-73feb7034f89",
   "metadata": {
    "tags": []
   },
   "outputs": [
    {
     "data": {
      "image/png": "[encoded data removed]",
      "text/plain": [
       "<Figure size 640x480 with 1 Axes>"
      ]
     },
     "metadata": {},
     "output_type": "display_data"
    }
   ],
   "source": [
    "plt.pie(filtered_dataset.is_fraud.value_counts(), autopct = '%.2f%%', labels = ['Legit', 'Fraudulent'], colors = ['palegreen', 'coral'])\n",
    "plt.legend()\n",
    "plt.axis('equal')\n",
    "plt.show()"
   ]
  },
  {
   "cell_type": "code",
   "execution_count": 40,
   "id": "105e7c18-d914-4d31-8cb4-666531ab1d00",
   "metadata": {
    "tags": []
   },
   "outputs": [
    {
     "data": {
      "text/plain": [
       "is_fraud\n",
       "0    320958\n",
       "1       444\n",
       "Name: count, dtype: int64"
      ]
     },
     "execution_count": 40,
     "metadata": {},
     "output_type": "execute_result"
    }
   ],
   "source": [
    "data.is_fraud.value_counts()"
   ]
  },
  {
   "cell_type": "markdown",
   "id": "042c3b68-39ae-44ce-a959-0ef79a7fbcc9",
   "metadata": {},
   "source": [
    "The target variable, 'is_fraud', is a binary variable. However, we observe a significant class imbalance in the dataset. Approximately 99.48% of the 339442 records are legitimate transactions, compared to only 0.52% that are fraudulent transactions.\n",
    "\n",
    "Class imbalance can bias the predictive model towards the majority class, reducing the model's ability to identify the minority class. To counter this, we can use different data balancing techniques. The techniques considered for this project include:\n",
    "\n",
    "1. **Undersampling the majority class**: This involves reducing the number of instances from the majority class to match the minority class. However, undersampling can lead to loss of information.\n",
    "\n",
    "2. **Oversampling the minority class by duplication**: This involves duplicating instances from the minority class to match the majority class. However, oversampling by duplication can lead to overfitting due to exact replication of instances.\n",
    "\n",
    "3. **Oversampling the minority class using Synthetic Minority Over-sampling Technique (SMOTE)**: SMOTE works by generating synthetic examples from the minority class. It helps to overcome the overfitting problem posed by random oversampling.\n",
    "\n",
    "Given that the majority class has 337660 instances and the minority class has only 1782, undersampling the majority class would lead to a significant reduction in our dataset. On the other hand, oversampling the minority class by duplication would require replicating the minority class approximately 189 times, leading to excessive duplication.\n",
    "\n",
    "Therefore, we prefer to use SMOTE, which provides a balance between preserving the majority class data and augmenting the minority class without excessive duplication."
   ]
  },
  {
   "cell_type": "markdown",
   "id": "31022d6e-e2bc-4d40-87b3-06e7cce2a3ce",
   "metadata": {},
   "source": [
    "### Oversampling the minority class using Synthetic Minority Over-sampling Technique (SMOTE)"
   ]
  },
  {
   "cell_type": "markdown",
   "id": "e98059e1-0095-4589-b2f7-a48ce86d83cb",
   "metadata": {},
   "source": [
    "An oversampling method, SMOTE creates new, synthetic observations from present samples of the minority class. Not only does it duplicate the existing data, it also creates new data that contains values that are close to the minority class with the help of data augmentation. These new synthetic training records are made randomly by selecting one or more K-nearest neighbors for each of the minority classes. After completing oversampling, the problem of an imbalanced dataset is resolved and we are ready to test different classification models"
   ]
  },
  {
   "cell_type": "code",
   "execution_count": 41,
   "id": "1bf901aa-4f43-4b0a-beb7-63a2bf497f4c",
   "metadata": {
    "tags": []
   },
   "outputs": [],
   "source": [
    "X = data.drop('is_fraud', axis=1)  # Selecting the features only without the target variable\n",
    "y = data['is_fraud']  # Selecting the target variable"
   ]
  },
  {
   "cell_type": "code",
   "execution_count": 42,
   "id": "62b59915-59ee-4e89-8324-b7675bee99ed",
   "metadata": {
    "tags": []
   },
   "outputs": [
    {
     "data": {
      "text/html": [
       "<div>\n",
       "<style scoped>\n",
       "    .dataframe tbody tr th:only-of-type {\n",
       "        vertical-align: middle;\n",
       "    }\n",
       "\n",
       "    .dataframe tbody tr th {\n",
       "        vertical-align: top;\n",
       "    }\n",
       "\n",
       "    .dataframe thead th {\n",
       "        text-align: right;\n",
       "    }\n",
       "</style>\n",
       "<table border=\"1\" class=\"dataframe\">\n",
       "  <thead>\n",
       "    <tr style=\"text-align: right;\">\n",
       "      <th></th>\n",
       "      <th>merchant_0</th>\n",
       "      <th>merchant_1</th>\n",
       "      <th>merchant_2</th>\n",
       "      <th>merchant_3</th>\n",
       "      <th>merchant_4</th>\n",
       "      <th>merchant_5</th>\n",
       "      <th>merchant_6</th>\n",
       "      <th>merchant_7</th>\n",
       "      <th>merchant_8</th>\n",
       "      <th>merchant_9</th>\n",
       "      <th>...</th>\n",
       "      <th>city_7</th>\n",
       "      <th>job_0</th>\n",
       "      <th>job_1</th>\n",
       "      <th>job_2</th>\n",
       "      <th>job_3</th>\n",
       "      <th>job_4</th>\n",
       "      <th>job_5</th>\n",
       "      <th>job_6</th>\n",
       "      <th>job_7</th>\n",
       "      <th>age</th>\n",
       "    </tr>\n",
       "  </thead>\n",
       "  <tbody>\n",
       "    <tr>\n",
       "      <th>0</th>\n",
       "      <td>0</td>\n",
       "      <td>0</td>\n",
       "      <td>0</td>\n",
       "      <td>0</td>\n",
       "      <td>0</td>\n",
       "      <td>0</td>\n",
       "      <td>0</td>\n",
       "      <td>0</td>\n",
       "      <td>0</td>\n",
       "      <td>1</td>\n",
       "      <td>...</td>\n",
       "      <td>1</td>\n",
       "      <td>0</td>\n",
       "      <td>0</td>\n",
       "      <td>0</td>\n",
       "      <td>0</td>\n",
       "      <td>0</td>\n",
       "      <td>0</td>\n",
       "      <td>0</td>\n",
       "      <td>1</td>\n",
       "      <td>0.310811</td>\n",
       "    </tr>\n",
       "    <tr>\n",
       "      <th>1</th>\n",
       "      <td>0</td>\n",
       "      <td>0</td>\n",
       "      <td>0</td>\n",
       "      <td>0</td>\n",
       "      <td>0</td>\n",
       "      <td>0</td>\n",
       "      <td>0</td>\n",
       "      <td>0</td>\n",
       "      <td>1</td>\n",
       "      <td>1</td>\n",
       "      <td>...</td>\n",
       "      <td>1</td>\n",
       "      <td>0</td>\n",
       "      <td>0</td>\n",
       "      <td>0</td>\n",
       "      <td>0</td>\n",
       "      <td>0</td>\n",
       "      <td>0</td>\n",
       "      <td>1</td>\n",
       "      <td>1</td>\n",
       "      <td>0.756757</td>\n",
       "    </tr>\n",
       "    <tr>\n",
       "      <th>2</th>\n",
       "      <td>0</td>\n",
       "      <td>0</td>\n",
       "      <td>0</td>\n",
       "      <td>0</td>\n",
       "      <td>0</td>\n",
       "      <td>0</td>\n",
       "      <td>0</td>\n",
       "      <td>1</td>\n",
       "      <td>0</td>\n",
       "      <td>0</td>\n",
       "      <td>...</td>\n",
       "      <td>0</td>\n",
       "      <td>0</td>\n",
       "      <td>0</td>\n",
       "      <td>0</td>\n",
       "      <td>0</td>\n",
       "      <td>0</td>\n",
       "      <td>1</td>\n",
       "      <td>0</td>\n",
       "      <td>0</td>\n",
       "      <td>0.459459</td>\n",
       "    </tr>\n",
       "    <tr>\n",
       "      <th>3</th>\n",
       "      <td>0</td>\n",
       "      <td>0</td>\n",
       "      <td>0</td>\n",
       "      <td>0</td>\n",
       "      <td>0</td>\n",
       "      <td>0</td>\n",
       "      <td>0</td>\n",
       "      <td>1</td>\n",
       "      <td>0</td>\n",
       "      <td>1</td>\n",
       "      <td>...</td>\n",
       "      <td>1</td>\n",
       "      <td>0</td>\n",
       "      <td>0</td>\n",
       "      <td>0</td>\n",
       "      <td>0</td>\n",
       "      <td>0</td>\n",
       "      <td>1</td>\n",
       "      <td>0</td>\n",
       "      <td>1</td>\n",
       "      <td>0.459459</td>\n",
       "    </tr>\n",
       "    <tr>\n",
       "      <th>4</th>\n",
       "      <td>0</td>\n",
       "      <td>0</td>\n",
       "      <td>0</td>\n",
       "      <td>0</td>\n",
       "      <td>0</td>\n",
       "      <td>0</td>\n",
       "      <td>0</td>\n",
       "      <td>1</td>\n",
       "      <td>1</td>\n",
       "      <td>0</td>\n",
       "      <td>...</td>\n",
       "      <td>0</td>\n",
       "      <td>0</td>\n",
       "      <td>0</td>\n",
       "      <td>0</td>\n",
       "      <td>0</td>\n",
       "      <td>0</td>\n",
       "      <td>1</td>\n",
       "      <td>1</td>\n",
       "      <td>0</td>\n",
       "      <td>0.472973</td>\n",
       "    </tr>\n",
       "  </tbody>\n",
       "</table>\n",
       "<p>5 rows × 36 columns</p>\n",
       "</div>"
      ],
      "text/plain": [
       "   merchant_0  merchant_1  merchant_2  merchant_3  merchant_4  merchant_5  \\\n",
       "0           0           0           0           0           0           0   \n",
       "1           0           0           0           0           0           0   \n",
       "2           0           0           0           0           0           0   \n",
       "3           0           0           0           0           0           0   \n",
       "4           0           0           0           0           0           0   \n",
       "\n",
       "   merchant_6  merchant_7  merchant_8  merchant_9  ...  city_7  job_0  job_1  \\\n",
       "0           0           0           0           1  ...       1      0      0   \n",
       "1           0           0           1           1  ...       1      0      0   \n",
       "2           0           1           0           0  ...       0      0      0   \n",
       "3           0           1           0           1  ...       1      0      0   \n",
       "4           0           1           1           0  ...       0      0      0   \n",
       "\n",
       "   job_2  job_3  job_4  job_5  job_6  job_7       age  \n",
       "0      0      0      0      0      0      1  0.310811  \n",
       "1      0      0      0      0      1      1  0.756757  \n",
       "2      0      0      0      1      0      0  0.459459  \n",
       "3      0      0      0      1      0      1  0.459459  \n",
       "4      0      0      0      1      1      0  0.472973  \n",
       "\n",
       "[5 rows x 36 columns]"
      ]
     },
     "execution_count": 42,
     "metadata": {},
     "output_type": "execute_result"
    }
   ],
   "source": [
    "X.head()"
   ]
  },
  {
   "cell_type": "code",
   "execution_count": 43,
   "id": "1cbeaca3-e6dc-4f6b-9157-15f1626537d5",
   "metadata": {
    "tags": []
   },
   "outputs": [],
   "source": [
    "from imblearn.over_sampling import SMOTE \n",
    "\n",
    "smote = SMOTE(sampling_strategy=0.5, random_state= 100, k_neighbors= 5)\n",
    "X_smote, y_smote = smote.fit_resample(X, y) "
   ]
  },
  {
   "cell_type": "code",
   "execution_count": 44,
   "id": "5e332241-34c8-4845-89c0-cf5e6caf6afc",
   "metadata": {
    "tags": []
   },
   "outputs": [
    {
     "data": {
      "text/plain": [
       "is_fraud\n",
       "0    320958\n",
       "1    160479\n",
       "Name: count, dtype: int64"
      ]
     },
     "execution_count": 44,
     "metadata": {},
     "output_type": "execute_result"
    }
   ],
   "source": [
    "y_smote.value_counts()"
   ]
  },
  {
   "cell_type": "code",
   "execution_count": 45,
   "id": "ad75ed0d-43aa-421d-a25a-ede18ea1d01e",
   "metadata": {
    "tags": []
   },
   "outputs": [
    {
     "data": {
      "image/png": "[encoded data removed]",
      "text/plain": [
       "<Figure size 640x480 with 1 Axes>"
      ]
     },
     "metadata": {},
     "output_type": "display_data"
    }
   ],
   "source": [
    "# Count the number of samples in each class after oversampling the minority class using SMOTE\n",
    "unique, counts = np.unique(y_smote, return_counts=True)\n",
    "\n",
    "# Plotting the class distribution after smote using a pie chart\n",
    "plt.pie(y_smote.value_counts(), labels = ['Legit', 'Fraudulent'], colors = ['palegreen', 'coral'], autopct = '%.2f%%')\n",
    "plt.legend()\n",
    "plt.axis('equal')\n",
    "plt.show()"
   ]
  },
  {
   "cell_type": "code",
   "execution_count": 46,
   "id": "6eccfd4f-a7ff-472b-9d3c-56490e2b2a4c",
   "metadata": {
    "tags": []
   },
   "outputs": [
    {
     "data": {
      "image/png": "[encoded data removed]",
      "text/plain": [
       "<Figure size 640x480 with 1 Axes>"
      ]
     },
     "metadata": {},
     "output_type": "display_data"
    }
   ],
   "source": [
    "# Plotting the class distribution after smote using a bar chart\n",
    "\n",
    "legit = y_smote[y_smote == 0]\n",
    "fraudulent = y_smote[y_smote == 1]\n",
    "\n",
    "plt.bar(0, len(legit), color='palegreen', label='Legit')\n",
    "plt.bar(1, len(fraudulent), color='coral', label='Fraudulent')\n",
    "\n",
    "plt.legend(loc='upper right')\n",
    "plt.show()"
   ]
  },
  {
   "cell_type": "code",
   "execution_count": 47,
   "id": "e98ce740-431b-4ffb-a9fe-a6d9c19c16ba",
   "metadata": {
    "tags": []
   },
   "outputs": [],
   "source": [
    "# X_smote is a DataFrame and y_smote is label\n",
    "# Combine them into a single DataFrame\n",
    "df_smote = pd.concat([X_smote, y_smote], axis=1)\n",
    "\n",
    "# Save the DataFrame to an CSV file\n",
    "df_smote.to_csv('data/credit_card_fraud_dataset_after_smote.csv', index=False)"
   ]
  },
  {
   "cell_type": "code",
   "execution_count": null,
   "id": "0c22d1ff-cbd8-4bce-8a1b-ff3ebbf76b78",
   "metadata": {},
   "outputs": [],
   "source": []
  }
 ],
 "metadata": {
  "kernelspec": {
   "display_name": "Python 3 (ipykernel)",
   "language": "python",
   "name": "python3"
  },
  "language_info": {
   "codemirror_mode": {
    "name": "ipython",
    "version": 3
   },
   "file_extension": ".py",
   "mimetype": "text/x-python",
   "name": "python",
   "nbconvert_exporter": "python",
   "pygments_lexer": "ipython3",
   "version": "3.11.5"
  }
 },
 "nbformat": 4,
 "nbformat_minor": 5
}
